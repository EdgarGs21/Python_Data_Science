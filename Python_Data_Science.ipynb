{
  "nbformat": 4,
  "nbformat_minor": 0,
  "metadata": {
    "colab": {
      "provenance": [],
      "include_colab_link": true
    },
    "kernelspec": {
      "name": "python3",
      "display_name": "Python 3"
    },
    "language_info": {
      "name": "python"
    }
  },
  "cells": [
    {
      "cell_type": "markdown",
      "metadata": {
        "id": "view-in-github",
        "colab_type": "text"
      },
      "source": [
        "<a href=\"https://colab.research.google.com/github/EdgarGs21/Python_Data_Science/blob/main/Python_Data_Science.ipynb\" target=\"_parent\"><img src=\"https://colab.research.google.com/assets/colab-badge.svg\" alt=\"Open In Colab\"/></a>"
      ]
    },
    {
      "cell_type": "markdown",
      "source": [
        "# Python para Data Science\n",
        "\n",
        "Notebook para el curso de Python para Data Science publicado en la plataforma de [Alura Latam](https://www.aluracursos.com/)"
      ],
      "metadata": {
        "id": "lQx6Mmv0OJyT"
      }
    },
    {
      "cell_type": "markdown",
      "source": [
        "# Introducción a Python\n",
        "¡Vamos a conocer Python, nuestro ambiente de estudio, y también generaremos nuestro primer código en este lenguaje!"
      ],
      "metadata": {
        "id": "7SiB6JIpYKmY"
      }
    },
    {
      "cell_type": "markdown",
      "source": [
        "## Google Colaboratory\n",
        "\n",
        "Ya aprendimos qué es [Python](https://www.python.org/) y ahora aprenderemos a usar nuestra herramienta de ejecución [Google Colaboratory](https://colab.research.google.com/) para programar en un notebook interactivo.\n",
        "\n",
        "Vamos a probar algunas funciones de este ambiente."
      ],
      "metadata": {
        "id": "Yugfb3fCOYY9"
      }
    },
    {
      "cell_type": "markdown",
      "source": [
        " **`>>> Usa esta celda para mover <<<`**"
      ],
      "metadata": {
        "id": "2iUHQsJasJAk"
      }
    },
    {
      "cell_type": "code",
      "source": [],
      "metadata": {
        "id": "o7jrX_iKhdkU"
      },
      "execution_count": null,
      "outputs": []
    },
    {
      "cell_type": "markdown",
      "source": [
        "## ¡Hola mundo!\n",
        "\n",
        "Vamos a conocer un poco más de cerca nuestro notebook. Para ello ejecutaremos nuestro primer comando en Python: [`print()`](https://docs.python.org/3/library/functions.html#print)"
      ],
      "metadata": {
        "id": "aLSFP2V7XTfe"
      }
    },
    {
      "cell_type": "code",
      "source": [
        "print('¡Hola mundo!')"
      ],
      "metadata": {
        "id": "0qZX8_ZQBYyk",
        "outputId": "c3bb223f-d9f2-41ac-f87a-1aaebda4b4d0",
        "colab": {
          "base_uri": "https://localhost:8080/"
        }
      },
      "execution_count": null,
      "outputs": [
        {
          "output_type": "stream",
          "name": "stdout",
          "text": [
            "¡Hola mundo!\n"
          ]
        }
      ]
    },
    {
      "cell_type": "code",
      "source": [
        "print('Escuela de Datos de Alura')"
      ],
      "metadata": {
        "id": "Jx9sZ2U2aKyB",
        "outputId": "d37381ba-46c5-4845-db61-520211c508e6",
        "colab": {
          "base_uri": "https://localhost:8080/"
        }
      },
      "execution_count": null,
      "outputs": [
        {
          "output_type": "stream",
          "name": "stdout",
          "text": [
            "Escuela de Datos de Alura\n"
          ]
        }
      ]
    },
    {
      "cell_type": "code",
      "source": [
        "print('Nombre: Edgar')\n",
        "print('Apellido: Gonzalez')"
      ],
      "metadata": {
        "id": "-9KUkaX0aPRt",
        "outputId": "82b8d4f4-1dcf-4f2a-936d-4942b5461645",
        "colab": {
          "base_uri": "https://localhost:8080/"
        }
      },
      "execution_count": null,
      "outputs": [
        {
          "output_type": "stream",
          "name": "stdout",
          "text": [
            "Nombre: Edgar\n",
            "Apellido: Gonzalez\n"
          ]
        }
      ]
    },
    {
      "cell_type": "code",
      "source": [
        "print('Á')\n",
        "print('L')\n",
        "print('V')\n",
        "print('A')\n",
        "print('R')\n",
        "print('O')"
      ],
      "metadata": {
        "id": "0TwGR9H_awZp",
        "outputId": "bfe27596-43dd-46b8-f0c0-b6afef920a04",
        "colab": {
          "base_uri": "https://localhost:8080/"
        }
      },
      "execution_count": null,
      "outputs": [
        {
          "output_type": "stream",
          "name": "stdout",
          "text": [
            "Á\n",
            "L\n",
            "V\n",
            "A\n",
            "R\n",
            "O\n"
          ]
        }
      ]
    },
    {
      "cell_type": "code",
      "source": [
        "print(28, 'febrero', 2003)"
      ],
      "metadata": {
        "id": "0J7sufddayhI",
        "outputId": "d3124f44-0d48-4c5c-916f-94edbfbaed62",
        "colab": {
          "base_uri": "https://localhost:8080/"
        }
      },
      "execution_count": null,
      "outputs": [
        {
          "output_type": "stream",
          "name": "stdout",
          "text": [
            "28 febrero 2003\n"
          ]
        }
      ]
    },
    {
      "cell_type": "code",
      "source": [
        "print('Año actual: ', 2025)"
      ],
      "metadata": {
        "id": "EyrsXab1a0cf",
        "outputId": "92e72b01-7ae0-49e3-adbb-e88bb56f7811",
        "colab": {
          "base_uri": "https://localhost:8080/"
        }
      },
      "execution_count": null,
      "outputs": [
        {
          "output_type": "stream",
          "name": "stdout",
          "text": [
            "Año actual:  2025\n"
          ]
        }
      ]
    },
    {
      "cell_type": "markdown",
      "source": [
        "# Manipulando los datos\n",
        "\n",
        "Vamos a aprender sobre las variables en Python, cómo declararlas y utilizarlas además de conocer otros comandos de este lenguaje. :D"
      ],
      "metadata": {
        "id": "iP8uWQmFYFRs"
      }
    },
    {
      "cell_type": "code",
      "source": [],
      "metadata": {
        "id": "ogBrLibWhnpc"
      },
      "execution_count": null,
      "outputs": []
    },
    {
      "cell_type": "markdown",
      "source": [
        "## Variables\n",
        "\n",
        "En Data Science trabajamos con varios tipos de datos e informaciones, entonces es esencial saber cómo trabajar con las variables."
      ],
      "metadata": {
        "id": "sLNVmnTbag1Z"
      }
    },
    {
      "cell_type": "markdown",
      "source": [
        "Las variables en Python se crean cuando atribuimos un valor a ella.\n",
        "\n",
        "Para esto, colocamos el nombre de la variable, el signo de igual (`=`) y el valor que queremos atribuirle."
      ],
      "metadata": {
        "id": "lsCY0wahAbf6"
      }
    },
    {
      "cell_type": "code",
      "source": [],
      "metadata": {
        "id": "vsHh5buZADND"
      },
      "execution_count": null,
      "outputs": []
    },
    {
      "cell_type": "code",
      "source": [],
      "metadata": {
        "id": "sivPtqSjADQV"
      },
      "execution_count": null,
      "outputs": []
    },
    {
      "cell_type": "code",
      "source": [],
      "metadata": {
        "id": "JC8jO47wADlm"
      },
      "execution_count": null,
      "outputs": []
    },
    {
      "cell_type": "markdown",
      "source": [
        "Existen algunos tipos de nomes que **no** podemos definir para las variables:\n",
        "\n",
        "- **Nombres que comiencen con números**\n",
        "  - Ejemplos: `10_notas`, `2_nombre_casa`, etc.\n",
        "- **Palabras separadas por espacio**\n",
        "  - Ejemplos: `Nombre escuela`, `notas estudiantes`, etc.\n",
        "- **Nombres de funciones de Python**\n",
        "  - Ejemplos: `print`, `type`, etc."
      ],
      "metadata": {
        "id": "om2N0jHKAzwL"
      }
    },
    {
      "cell_type": "markdown",
      "source": [
        "> Las letras mayúsculas y minúsculas generarán diferentes variables. La variable `edad` es diferente de `Edad` que a su vez es diferente de `EDAD`:\n",
        "``` Python\n",
        "edad = 1\n",
        "Edad = 2\n",
        "EDAD = 3\n",
        "_edad = 4\n",
        "_edad_ = 5\n",
        "print(edad, Edad, EDAD, _edad, _edad_)\n",
        "1 2 3 4 5\n",
        "```"
      ],
      "metadata": {
        "id": "A19vY2GVMujB"
      }
    },
    {
      "cell_type": "markdown",
      "source": [
        "## Tipos de variables\n",
        "\n",
        "Cada variable contiene una clase específica con respecto al tipo de objeto al cual esta hace referencia. Estas clases serán diferentes de acuerdo con el tipo de dato que le sea atribuido a una variable.\n",
        "\n",
        "Para conocer la clase de cada elemento usamos la función [`type()`](https://docs.python.org/3/library/functions.html#type)"
      ],
      "metadata": {
        "id": "UqhzuBhBHsps"
      }
    },
    {
      "cell_type": "code",
      "source": [
        "edad = 5"
      ],
      "metadata": {
        "id": "rF3gNWOQa6M0"
      },
      "execution_count": null,
      "outputs": []
    },
    {
      "cell_type": "code",
      "source": [
        "type(edad)"
      ],
      "metadata": {
        "id": "mwHLEMI_bWs6",
        "outputId": "d28ca1b1-a6f4-4958-97c6-171ede971a65",
        "colab": {
          "base_uri": "https://localhost:8080/"
        }
      },
      "execution_count": null,
      "outputs": [
        {
          "output_type": "execute_result",
          "data": {
            "text/plain": [
              "int"
            ]
          },
          "metadata": {},
          "execution_count": 8
        }
      ]
    },
    {
      "cell_type": "code",
      "source": [
        "promedio = 9.5\n",
        "type(promedio)"
      ],
      "metadata": {
        "id": "jfqfos4EdUjR",
        "outputId": "dc65c55b-e4dd-4c26-d1c3-6b8d06a8a2ff",
        "colab": {
          "base_uri": "https://localhost:8080/"
        }
      },
      "execution_count": null,
      "outputs": [
        {
          "output_type": "execute_result",
          "data": {
            "text/plain": [
              "float"
            ]
          },
          "metadata": {},
          "execution_count": 11
        }
      ]
    },
    {
      "cell_type": "code",
      "source": [
        "nombre = 'Edgar'\n",
        "type(nombre)"
      ],
      "metadata": {
        "id": "unLVr4oBd2fk",
        "outputId": "3cacda73-305c-4817-c9e8-911a0a75e1a1",
        "colab": {
          "base_uri": "https://localhost:8080/"
        }
      },
      "execution_count": null,
      "outputs": [
        {
          "output_type": "execute_result",
          "data": {
            "text/plain": [
              "str"
            ]
          },
          "metadata": {},
          "execution_count": 12
        }
      ]
    },
    {
      "cell_type": "code",
      "source": [
        "v = True\n",
        "type(v)"
      ],
      "metadata": {
        "id": "9zlwJzaPd4or",
        "outputId": "d5981479-6f78-46df-9c65-443f82a0c2a6",
        "colab": {
          "base_uri": "https://localhost:8080/"
        }
      },
      "execution_count": null,
      "outputs": [
        {
          "output_type": "execute_result",
          "data": {
            "text/plain": [
              "bool"
            ]
          },
          "metadata": {},
          "execution_count": 13
        }
      ]
    },
    {
      "cell_type": "markdown",
      "source": [
        "En un conjunto de datos escolares podemos tener varios tipos de informaciones. Supongamos que tenemos acceso a la ficha de datos del alumno *Penélope Camacho*, cómo transformamos este nombre en variables de Python?\n",
        "\n",
        "#### Ficha:\n",
        "\n",
        "- Nombre: Penélope Camacho\n",
        "- Edad: 11 años\n",
        "- Promedio del semestre: 9,75\n",
        "- Situación de aprobación: Verdadera (aprobado)"
      ],
      "metadata": {
        "id": "O-FxDumfWu0C"
      }
    },
    {
      "cell_type": "code",
      "source": [
        "nombre_estudiante = \"Penélope Camacho\"\n",
        "edad_estudiante = 11\n",
        "promedio_estudiante = 9.75\n",
        "aprobado = True\n",
        "\n",
        "print(nombre_estudiante, edad_estudiante, promedio_estudiante, aprobado)\n",
        "print(type(nombre_estudiante), type(edad_estudiante), type(promedio_estudiante), type(aprobado))"
      ],
      "metadata": {
        "id": "IZLQnZUj_8bd",
        "colab": {
          "base_uri": "https://localhost:8080/"
        },
        "outputId": "fe15af81-24ac-4b25-b045-58706b4f2b3e"
      },
      "execution_count": null,
      "outputs": [
        {
          "output_type": "stream",
          "name": "stdout",
          "text": [
            "Penélope Camacho 11 9.75 True\n",
            "<class 'str'> <class 'int'> <class 'float'> <class 'bool'>\n"
          ]
        }
      ]
    },
    {
      "cell_type": "markdown",
      "source": [
        "## Variables numéricas\n",
        "\n",
        "Entre los tipos de datos numéricos vamos a enfocarnos en los tipos `entero` y `float`."
      ],
      "metadata": {
        "id": "KFq_8Sxf-OG0"
      }
    },
    {
      "cell_type": "markdown",
      "source": [
        "Tenemos una tabla de información sobre los diversos cargos, cantidad de personas empleadas y el salario correspondiente:\n",
        "\n",
        "|Cargo | Cantidad | Salario|\n",
        "|---|---|---|\n",
        "|Vigilante | 5 | 300 |\n",
        "|Docente | 16| 500|\n",
        "|Coordinador| 2 |600|\n",
        "\n",
        "Necesitamos trabajar con estos datos para obtener:\n",
        "\n",
        "- La cantidad total de empleados;\n",
        "- La diferencia entre el salario más bajo y más alto; y\n",
        "- El promedio ponderado de los salarios de los empleados de la escuela."
      ],
      "metadata": {
        "id": "8_HYUbkVYdQY"
      }
    },
    {
      "cell_type": "code",
      "source": [
        "s_vigilante = 300\n",
        "c_vigilante = 5\n",
        "\n",
        "s_docente = 500\n",
        "c_docente = 16\n",
        "\n",
        "s_coordinador = 600\n",
        "c_coordinador = 2"
      ],
      "metadata": {
        "id": "F_X-wxdm_5Ys"
      },
      "execution_count": null,
      "outputs": []
    },
    {
      "cell_type": "code",
      "source": [
        "total_empleados = c_vigilante + c_docente + c_coordinador\n",
        "total_empleados"
      ],
      "metadata": {
        "id": "gKmBbhII_5b9",
        "outputId": "7e1a5557-4b76-4e70-cd3a-fec6115d9e0f",
        "colab": {
          "base_uri": "https://localhost:8080/"
        }
      },
      "execution_count": null,
      "outputs": [
        {
          "output_type": "execute_result",
          "data": {
            "text/plain": [
              "23"
            ]
          },
          "metadata": {},
          "execution_count": 3
        }
      ]
    },
    {
      "cell_type": "code",
      "source": [
        "diferencia_salario = s_coordinador - s_vigilante\n",
        "diferencia_salario"
      ],
      "metadata": {
        "id": "fIugsxNy_53j",
        "outputId": "8ec12779-2aa3-464b-e644-b5f29e124db9",
        "colab": {
          "base_uri": "https://localhost:8080/"
        }
      },
      "execution_count": null,
      "outputs": [
        {
          "output_type": "execute_result",
          "data": {
            "text/plain": [
              "300"
            ]
          },
          "metadata": {},
          "execution_count": 5
        }
      ]
    },
    {
      "cell_type": "code",
      "source": [
        "promedio_salarios = (s_vigilante * c_vigilante + s_docente * c_docente + s_coordinador * c_coordinador) / total_empleados\n",
        "promedio_salarios"
      ],
      "metadata": {
        "id": "Obgm5zvAOWHQ",
        "outputId": "108524c5-ffdc-4eaa-cd0d-15e320b16b30",
        "colab": {
          "base_uri": "https://localhost:8080/"
        }
      },
      "execution_count": null,
      "outputs": [
        {
          "output_type": "execute_result",
          "data": {
            "text/plain": [
              "465.2173913043478"
            ]
          },
          "metadata": {},
          "execution_count": 6
        }
      ]
    },
    {
      "cell_type": "markdown",
      "source": [
        "## Strings"
      ],
      "metadata": {
        "id": "yQy7b0ZWoD-P"
      }
    },
    {
      "cell_type": "markdown",
      "source": [
        "Strings hace referencia a un conjunto de caracteres formando un texto.\n",
        "\n",
        "Podemos crear Strings cuando atribuimos un dato a una variable entre comillas sencillas (`'`) o comillas dobles (`\"`)."
      ],
      "metadata": {
        "id": "vlo2-DXusv3s"
      }
    },
    {
      "cell_type": "code",
      "source": [
        "t = 'Alura'\n",
        "type(t)"
      ],
      "metadata": {
        "id": "ityEWqvh_2wK",
        "outputId": "0bbebdff-cdbf-421c-a860-ea6205df7b8d",
        "colab": {
          "base_uri": "https://localhost:8080/"
        }
      },
      "execution_count": null,
      "outputs": [
        {
          "output_type": "execute_result",
          "data": {
            "text/plain": [
              "str"
            ]
          },
          "metadata": {},
          "execution_count": 7
        }
      ]
    },
    {
      "cell_type": "markdown",
      "source": [
        "Las variables textuales son objetos que poseen métodos que nos ayudan a formatear strings. Los métodos los podemos ejecutar al definir un objeto de acuerdo con la siguiente estructura:\n",
        "\n",
        "```\n",
        "objeto.metodo()\n",
        "```\n",
        "\n",
        "Existen métodos que no necesitan los `()`, siempre es una buena práctica verificar la documentación para cada caso."
      ],
      "metadata": {
        "id": "2e9UD_CCxqz_"
      }
    },
    {
      "cell_type": "markdown",
      "source": [
        "---\n",
        "**Situación:**\n",
        "\n",
        "Recibimos una variable con el nombre de una profesora de la escuela para añadirla a los registros. Sin embargo, necesitamos darle un tratamiento a este texto antes de insertarlo al sistema."
      ],
      "metadata": {
        "id": "p6aPmMGP4tf9"
      }
    },
    {
      "cell_type": "code",
      "source": [
        "texto = '  Micaela de los Sanyos '\n",
        "id(texto)"
      ],
      "metadata": {
        "id": "icDWtYTjBO0n",
        "outputId": "9524f5fa-6e10-4985-be3c-fb99a3a32099",
        "colab": {
          "base_uri": "https://localhost:8080/"
        }
      },
      "execution_count": null,
      "outputs": [
        {
          "output_type": "execute_result",
          "data": {
            "text/plain": [
              "140001361126192"
            ]
          },
          "metadata": {},
          "execution_count": 8
        }
      ]
    },
    {
      "cell_type": "markdown",
      "source": [
        "El objetivo final es que el nombre aparezca de la siguiente forma:\n",
        "\n",
        "```\n",
        "'MICAELA DE LOS SANTOS'\n",
        "```"
      ],
      "metadata": {
        "id": "Dg2ZXSZOGzjC"
      }
    },
    {
      "cell_type": "markdown",
      "source": [
        "### [`str.upper()` ](https://docs.python.org/3/library/stdtypes.html#str.upper)\n",
        "Convierte una string a mayúsculas."
      ],
      "metadata": {
        "id": "iVTAD8q702eN"
      }
    },
    {
      "cell_type": "code",
      "source": [
        "texto.upper()"
      ],
      "metadata": {
        "id": "wMVshJrY_ZXh",
        "outputId": "963c5828-8966-46d5-89ba-252dabccb04c",
        "colab": {
          "base_uri": "https://localhost:8080/",
          "height": 35
        }
      },
      "execution_count": null,
      "outputs": [
        {
          "output_type": "execute_result",
          "data": {
            "text/plain": [
              "'  MICAELA DE LOS SANYOS '"
            ],
            "application/vnd.google.colaboratory.intrinsic+json": {
              "type": "string"
            }
          },
          "metadata": {},
          "execution_count": 10
        }
      ]
    },
    {
      "cell_type": "markdown",
      "source": [
        "### [`str.lower()`](https://docs.python.org/3/library/stdtypes.html#str.lower)\n",
        "Convierte una string a minúsculas."
      ],
      "metadata": {
        "id": "hbDSBtMV1TpG"
      }
    },
    {
      "cell_type": "code",
      "source": [
        "texto.lower()"
      ],
      "metadata": {
        "id": "px3yEeNH_YK4",
        "outputId": "9119245c-519b-45cb-ffed-56630464c342",
        "colab": {
          "base_uri": "https://localhost:8080/",
          "height": 35
        }
      },
      "execution_count": null,
      "outputs": [
        {
          "output_type": "execute_result",
          "data": {
            "text/plain": [
              "'  micaela de los sanyos '"
            ],
            "application/vnd.google.colaboratory.intrinsic+json": {
              "type": "string"
            }
          },
          "metadata": {},
          "execution_count": 11
        }
      ]
    },
    {
      "cell_type": "markdown",
      "source": [
        "### [`str.strip()`](https://docs.python.org/3/library/stdtypes.html#str.strip)\n",
        "Elimina los espacios en blanco al inicio y al final de una string."
      ],
      "metadata": {
        "id": "kz47eWM11gii"
      }
    },
    {
      "cell_type": "code",
      "source": [
        "texto.strip()"
      ],
      "metadata": {
        "id": "76dLgNa4_XAe",
        "outputId": "cb7c9aa9-9d9c-457b-b3c9-9e15e4c87064",
        "colab": {
          "base_uri": "https://localhost:8080/",
          "height": 35
        }
      },
      "execution_count": null,
      "outputs": [
        {
          "output_type": "execute_result",
          "data": {
            "text/plain": [
              "'Micaela de los Sanyos'"
            ],
            "application/vnd.google.colaboratory.intrinsic+json": {
              "type": "string"
            }
          },
          "metadata": {},
          "execution_count": 12
        }
      ]
    },
    {
      "cell_type": "markdown",
      "source": [
        "### [`str.replace(antiguo, nuevo)`](https://docs.python.org/3/library/stdtypes.html#str.replace)\n",
        "\n",
        "Sustituye todas las ocurrencias del texto \"antiguo\" en la string por el  \"nuevo\"."
      ],
      "metadata": {
        "id": "m6notiyS1SCV"
      }
    },
    {
      "cell_type": "code",
      "source": [
        "texto.replace('y', 't')"
      ],
      "metadata": {
        "id": "PNXAixtE_V6R",
        "outputId": "d6609d1f-e689-4bbc-8aa7-3d196ac26388",
        "colab": {
          "base_uri": "https://localhost:8080/",
          "height": 35
        }
      },
      "execution_count": null,
      "outputs": [
        {
          "output_type": "execute_result",
          "data": {
            "text/plain": [
              "'  Micaela de los Santos '"
            ],
            "application/vnd.google.colaboratory.intrinsic+json": {
              "type": "string"
            }
          },
          "metadata": {},
          "execution_count": 9
        }
      ]
    },
    {
      "cell_type": "markdown",
      "source": [
        "### Observaciones\n",
        "\n",
        "1. Los métodos devuelven una **tranformación**, no son ejecutados directamente sobre la variable donde está almacenado el texto.\n",
        "\n",
        "2. Adicionalmente, podemos acumular la ejecución de los métodos."
      ],
      "metadata": {
        "id": "zukvEjhG2Rcn"
      }
    },
    {
      "cell_type": "code",
      "source": [
        "texto"
      ],
      "metadata": {
        "id": "NljKIQ-U_rbd",
        "outputId": "2d7802b3-9281-46b7-e4ce-97e946744864",
        "colab": {
          "base_uri": "https://localhost:8080/",
          "height": 35
        }
      },
      "execution_count": null,
      "outputs": [
        {
          "output_type": "execute_result",
          "data": {
            "text/plain": [
              "'  Micaela de los Sanyos '"
            ],
            "application/vnd.google.colaboratory.intrinsic+json": {
              "type": "string"
            }
          },
          "metadata": {},
          "execution_count": 10
        }
      ]
    },
    {
      "cell_type": "code",
      "source": [
        "id(texto)"
      ],
      "metadata": {
        "id": "Tfs2qUe7AFXY",
        "outputId": "aa932668-17d5-407c-f150-316f55d15192",
        "colab": {
          "base_uri": "https://localhost:8080/"
        }
      },
      "execution_count": null,
      "outputs": [
        {
          "output_type": "execute_result",
          "data": {
            "text/plain": [
              "140001361126192"
            ]
          },
          "metadata": {},
          "execution_count": 11
        }
      ]
    },
    {
      "cell_type": "markdown",
      "source": [
        "Para que la transformación se pueda ejecutar debemos atribuir la salida de las transformaciones a las variables"
      ],
      "metadata": {
        "id": "1KbwfVut2h6I"
      }
    },
    {
      "cell_type": "code",
      "source": [
        "nuevo_texto = texto.strip().replace('y', 't').upper()\n",
        "print(nuevo_texto)\n",
        "print(id(texto), id(nuevo_texto))"
      ],
      "metadata": {
        "id": "ocPP-Jaj_SJI",
        "outputId": "69e4a7ec-dd97-4706-bbec-2ed7847aaea7",
        "colab": {
          "base_uri": "https://localhost:8080/"
        }
      },
      "execution_count": null,
      "outputs": [
        {
          "output_type": "stream",
          "name": "stdout",
          "text": [
            "MICAELA DE LOS SANTOS\n",
            "140001361126192 140001361124752\n"
          ]
        }
      ]
    },
    {
      "cell_type": "code",
      "source": [
        "texto = texto.strip().replace('y', 't').upper()\n",
        "print(texto)\n",
        "print(id(texto), id(nuevo_texto))"
      ],
      "metadata": {
        "id": "Uj_x_G0PBdK1",
        "outputId": "2f5a0674-c630-4963-8460-a9d23aa301e6",
        "colab": {
          "base_uri": "https://localhost:8080/"
        }
      },
      "execution_count": null,
      "outputs": [
        {
          "output_type": "stream",
          "name": "stdout",
          "text": [
            "MICAELA DE LOS SANTOS\n",
            "140001359608640 140001361124752\n"
          ]
        }
      ]
    },
    {
      "cell_type": "markdown",
      "source": [
        "##Exponenciación (**)\n",
        "Podemos elevar un número a una potencia específica utilizando el operador **. Para obtener este resultado, definimos un valor a la izquierda del operador y la potencia deseada del número a la derecha. Por ejemplo, sabemos que 2 elevado a la 3 es igual a 8 (2 * 2 * 2 = 8). Para realizar este cálculo, escribimos:"
      ],
      "metadata": {
        "id": "rPCijDZnCmlE"
      }
    },
    {
      "cell_type": "code",
      "source": [
        "2**3"
      ],
      "metadata": {
        "id": "0VOhs61dCNTN",
        "outputId": "d91ad849-6e1f-4551-948e-21eca707f836",
        "colab": {
          "base_uri": "https://localhost:8080/"
        }
      },
      "execution_count": null,
      "outputs": [
        {
          "output_type": "execute_result",
          "data": {
            "text/plain": [
              "8"
            ]
          },
          "metadata": {},
          "execution_count": 16
        }
      ]
    },
    {
      "cell_type": "markdown",
      "source": [
        "El mismo ejemplo se puede hacer con variables:"
      ],
      "metadata": {
        "id": "MRcY288jC457"
      }
    },
    {
      "cell_type": "code",
      "source": [
        "operador = 2\n",
        "potencia = 3\n",
        "operador ** potencia"
      ],
      "metadata": {
        "id": "vOSxVLd6Cf3v",
        "outputId": "0b662b29-02f7-4482-a9f4-1dc3a7e2cb6a",
        "colab": {
          "base_uri": "https://localhost:8080/"
        }
      },
      "execution_count": null,
      "outputs": [
        {
          "output_type": "execute_result",
          "data": {
            "text/plain": [
              "8"
            ]
          },
          "metadata": {},
          "execution_count": 17
        }
      ]
    },
    {
      "cell_type": "markdown",
      "source": [
        "##Módulo (%)\n",
        "El operador de módulo % puede devolver el residuo de una división entera entre dos números. Recuerda que el residuo de una división es el número que queda cuando la división no es exacta.\n",
        "\n",
        "Para calcular el módulo de una división, colocamos el dividendo a la izquierda del operador % y el divisor a la derecha. Por ejemplo, para encontrar el residuo de la división de 7 entre 3, podemos ejecutar los siguientes códigos:"
      ],
      "metadata": {
        "id": "eyrLQhHLC9Wu"
      }
    },
    {
      "cell_type": "code",
      "source": [
        "7%3"
      ],
      "metadata": {
        "id": "PTnK8Ir-CjjX",
        "outputId": "eec26d82-2b86-4611-d700-ae8b3a705743",
        "colab": {
          "base_uri": "https://localhost:8080/"
        }
      },
      "execution_count": null,
      "outputs": [
        {
          "output_type": "execute_result",
          "data": {
            "text/plain": [
              "1"
            ]
          },
          "metadata": {},
          "execution_count": 18
        }
      ]
    },
    {
      "cell_type": "markdown",
      "source": [
        "O con variables:"
      ],
      "metadata": {
        "id": "b5Y7iBvdDM3K"
      }
    },
    {
      "cell_type": "code",
      "source": [
        "dividendo = 7\n",
        "divisor = 3\n",
        "dividendo % divisor"
      ],
      "metadata": {
        "id": "CUnBDRCGDOUF",
        "outputId": "3e2e9cac-8f0d-4e3d-b92a-5f534d25bf04",
        "colab": {
          "base_uri": "https://localhost:8080/"
        }
      },
      "execution_count": null,
      "outputs": [
        {
          "output_type": "execute_result",
          "data": {
            "text/plain": [
              "1"
            ]
          },
          "metadata": {},
          "execution_count": 19
        }
      ]
    },
    {
      "cell_type": "markdown",
      "source": [
        "##División entera (//)\n",
        "Esta operación devuelve el resultado de la división entera entre dos números, es decir, solo devuelve la parte entera de una división. Por ejemplo, sabemos que la división exacta de 7 por 3 (7/3) resulta en el valor 2.333333.... Si esta fuera una división entera, el resultado sería simplemente 2. La sintaxis consiste en colocar el valor del numerador, el operador // y luego el denominador, como se muestra a continuación:"
      ],
      "metadata": {
        "id": "1Dt5TLaiDSzf"
      }
    },
    {
      "cell_type": "code",
      "source": [
        "7 // 3"
      ],
      "metadata": {
        "id": "vTtI4BGCDY1L",
        "outputId": "94ad2fb5-c8a0-4012-f89f-6addda5dedf8",
        "colab": {
          "base_uri": "https://localhost:8080/"
        }
      },
      "execution_count": null,
      "outputs": [
        {
          "output_type": "execute_result",
          "data": {
            "text/plain": [
              "2"
            ]
          },
          "metadata": {},
          "execution_count": 20
        }
      ]
    },
    {
      "cell_type": "markdown",
      "source": [
        "El mismo ejemplo se puede hacer con variables:"
      ],
      "metadata": {
        "id": "STA4eWKzDaoK"
      }
    },
    {
      "cell_type": "code",
      "source": [
        "numerador = 7\n",
        "denominador = 3\n",
        "numerador // denominador"
      ],
      "metadata": {
        "id": "IlFotdSIDdJw",
        "outputId": "bfb76408-6dd6-4e49-df5b-2d6c63284553",
        "colab": {
          "base_uri": "https://localhost:8080/"
        }
      },
      "execution_count": null,
      "outputs": [
        {
          "output_type": "execute_result",
          "data": {
            "text/plain": [
              "2"
            ]
          },
          "metadata": {},
          "execution_count": 21
        }
      ]
    },
    {
      "cell_type": "markdown",
      "source": [
        "## Capturando datos\n",
        "\n",
        "En algunas aplicaciones necesitamos capturar los valores del usuario de nuestro proyecto. En python, logramos capturar los datos del usuario a través del comando [`input()`](https://docs.python.org/3/library/functions.html#input).\n",
        "\n",
        "Para ejecutar la captura debemos atribuir el resultado de esta función a una variable."
      ],
      "metadata": {
        "id": "0h9Fh5G9kHCa"
      }
    },
    {
      "cell_type": "code",
      "source": [
        "nombre = input('¿Cuál es tu nombre? ')"
      ],
      "metadata": {
        "id": "zbH_9i3q_PdY",
        "outputId": "a1616304-f5e1-40da-e2bf-e876d1392920",
        "colab": {
          "base_uri": "https://localhost:8080/"
        }
      },
      "execution_count": null,
      "outputs": [
        {
          "name": "stdout",
          "output_type": "stream",
          "text": [
            "¿Cuál es tu nombre? Edgar \n"
          ]
        }
      ]
    },
    {
      "cell_type": "code",
      "source": [
        "type(nombre)"
      ],
      "metadata": {
        "id": "JZy1Q9Tl_PgL",
        "outputId": "520b1347-b0a8-45e8-dda2-deac097e3751",
        "colab": {
          "base_uri": "https://localhost:8080/"
        }
      },
      "execution_count": null,
      "outputs": [
        {
          "output_type": "execute_result",
          "data": {
            "text/plain": [
              "str"
            ]
          },
          "metadata": {},
          "execution_count": 23
        }
      ]
    },
    {
      "cell_type": "markdown",
      "source": [
        "La salida de este comando siempre será una *string*. Esto quiere decir que aunque capturemos un valor de variable numérica, este será de tipo string.\n",
        "\n",
        "Entonces, será necesario **convertir el resultado cuando no se desea utilizar el valor como tipo string**."
      ],
      "metadata": {
        "id": "7z7hcLCk_aCY"
      }
    },
    {
      "cell_type": "markdown",
      "source": [
        "Existen funciones para la conversión de valores:\n",
        "\n",
        "- Enteros: [`int(dato_para_conversion)`](https://docs.python.org/3/library/functions.html#int)\n",
        "- Coma flotante: [`float(dato_para_conversion)`](https://docs.python.org/3/library/functions.html#float)\n",
        "- String: [`str(dato_para_conversion)`](https://docs.python.org/3/library/functions.html#func-str)\n",
        "- Booleano: [`bool(dato_para_conversion)`](https://docs.python.org/3/library/functions.html#bool)"
      ],
      "metadata": {
        "id": "TOlegATj1Jfp"
      }
    },
    {
      "cell_type": "code",
      "source": [
        "ano_admitido = int(input('¿En qué año ingresaste a la escuela? '))"
      ],
      "metadata": {
        "id": "M2ueeH6l_NMe",
        "outputId": "c5d2b14f-7724-44a9-b124-7f8cf85fc9ac",
        "colab": {
          "base_uri": "https://localhost:8080/"
        }
      },
      "execution_count": null,
      "outputs": [
        {
          "name": "stdout",
          "output_type": "stream",
          "text": [
            "¿En qué año ingresaste a la escuela? 2020\n"
          ]
        }
      ]
    },
    {
      "cell_type": "code",
      "source": [
        "type(ano_admitido)"
      ],
      "metadata": {
        "id": "xfWwuViK_NUn",
        "outputId": "5c59bea8-fde0-4993-bc57-f7ed26d6cf3c",
        "colab": {
          "base_uri": "https://localhost:8080/"
        }
      },
      "execution_count": null,
      "outputs": [
        {
          "output_type": "execute_result",
          "data": {
            "text/plain": [
              "int"
            ]
          },
          "metadata": {},
          "execution_count": 6
        }
      ]
    },
    {
      "cell_type": "code",
      "source": [
        "nota_admision = float(input('Digite la nota de admision '))"
      ],
      "metadata": {
        "id": "f3qzUgDRJtku",
        "outputId": "82a0bc11-2299-4af6-d81a-06aa7ca8eb62",
        "colab": {
          "base_uri": "https://localhost:8080/"
        }
      },
      "execution_count": null,
      "outputs": [
        {
          "name": "stdout",
          "output_type": "stream",
          "text": [
            "Digite la nota de admision 7.6\n"
          ]
        }
      ]
    },
    {
      "cell_type": "code",
      "source": [
        "type(nota_admision)"
      ],
      "metadata": {
        "id": "mgRuSbUYJJ9y",
        "outputId": "881bdd60-b405-4307-d6fb-300690e8128f",
        "colab": {
          "base_uri": "https://localhost:8080/"
        }
      },
      "execution_count": null,
      "outputs": [
        {
          "output_type": "execute_result",
          "data": {
            "text/plain": [
              "float"
            ]
          },
          "metadata": {},
          "execution_count": 8
        }
      ]
    },
    {
      "cell_type": "markdown",
      "source": [
        "Trataremos de representar mejor ahora el resultado de la transformación que obtuvimos. Nosotros podemos formatear y presentar nuestro resultado mezclando strings con valores no textuales.\n",
        "\n",
        "Para ello utilizamos la estructura de formatación `f` con strings."
      ],
      "metadata": {
        "id": "yNI2-XTbB3aS"
      }
    },
    {
      "cell_type": "code",
      "source": [
        "print(f'\\tEl año de admision fue: {ano_admitido} \\n\\tLa nota  de admision fue: {nota_admision}')"
      ],
      "metadata": {
        "id": "keJjA5N9_K5i",
        "outputId": "9d60d29e-70a2-4c7a-ff3e-c98c61dadbb2",
        "colab": {
          "base_uri": "https://localhost:8080/"
        }
      },
      "execution_count": null,
      "outputs": [
        {
          "output_type": "stream",
          "name": "stdout",
          "text": [
            "\tEl año de admision fue: 2020 \n",
            "\tLa nota  de admision fue: 7.6\n"
          ]
        }
      ]
    },
    {
      "cell_type": "markdown",
      "source": [
        "##Operador de Formateo:"
      ],
      "metadata": {
        "id": "-2UgCfWQ45pG"
      }
    },
    {
      "cell_type": "code",
      "source": [
        "nombre = \"Ana María\"\n",
        "edad = 17\n",
        "print(f\"El nombre de la alumna es {nombre} y su edad es {edad} años.\")"
      ],
      "metadata": {
        "id": "bBK5JxFH4LAE",
        "outputId": "af36b2c6-e5db-40be-a1e7-3b712146601d",
        "colab": {
          "base_uri": "https://localhost:8080/"
        }
      },
      "execution_count": null,
      "outputs": [
        {
          "output_type": "stream",
          "name": "stdout",
          "text": [
            "El nombre de la alumna es Ana María y su edad es 17 años.\n"
          ]
        }
      ]
    },
    {
      "cell_type": "code",
      "source": [
        "nombre_alumno = 'Penélope Camacho'\n",
        "print('Nombre del alumno: %s' %(nombre_alumno))"
      ],
      "metadata": {
        "id": "MHUCGMD34dEc",
        "outputId": "e6490f8c-9186-4c82-a200-073468203194",
        "colab": {
          "base_uri": "https://localhost:8080/"
        }
      },
      "execution_count": null,
      "outputs": [
        {
          "output_type": "stream",
          "name": "stdout",
          "text": [
            "Nombre del alumno: Penélope Camacho\n"
          ]
        }
      ]
    },
    {
      "cell_type": "code",
      "source": [
        "nombre_alumno = 'Penélope Camacho'\n",
        "edad_alumno = 11\n",
        "media_alumno = 9.95\n",
        "print('Nombre del alumno es %s, tiene %d años y su media es %f.' %(nombre_alumno, edad_alumno, media_alumno))"
      ],
      "metadata": {
        "id": "lJWXRidD4ke6",
        "outputId": "2e8951bd-e4e3-45b3-ff0b-e0af9c863997",
        "colab": {
          "base_uri": "https://localhost:8080/"
        }
      },
      "execution_count": null,
      "outputs": [
        {
          "output_type": "stream",
          "name": "stdout",
          "text": [
            "Nombre del alumno es Penélope Camacho, tiene 11 años y su media es 9.950000.\n"
          ]
        }
      ]
    },
    {
      "cell_type": "code",
      "source": [
        "print('Nombre del alumno es %s, tiene %d años y su media es %.2f.' %(nombre_alumno, edad_alumno, media_alumno))"
      ],
      "metadata": {
        "id": "hD5KFpQm4p_s",
        "outputId": "9459dc23-5366-4e54-e876-86c472c79c79",
        "colab": {
          "base_uri": "https://localhost:8080/"
        }
      },
      "execution_count": null,
      "outputs": [
        {
          "output_type": "stream",
          "name": "stdout",
          "text": [
            "Nombre del alumno es Penélope Camacho, tiene 11 años y su media es 9.95.\n"
          ]
        }
      ]
    },
    {
      "cell_type": "code",
      "source": [
        "x = True\n",
        "print(\"Valor de x: %s\" % str(x))"
      ],
      "metadata": {
        "id": "tgbkiWEx42Fg",
        "outputId": "c513a8cf-1387-41e8-ed13-e5fc979c25f3",
        "colab": {
          "base_uri": "https://localhost:8080/"
        }
      },
      "execution_count": null,
      "outputs": [
        {
          "output_type": "stream",
          "name": "stdout",
          "text": [
            "Valor de x: True\n"
          ]
        }
      ]
    },
    {
      "cell_type": "markdown",
      "source": [
        "##Método .format():"
      ],
      "metadata": {
        "id": "OOD4CDdi5D9t"
      }
    },
    {
      "cell_type": "code",
      "source": [
        "nombre_alumno = 'Penélope Camacho'\n",
        "print('Nombre del alumno: {}'.format(nombre_alumno))"
      ],
      "metadata": {
        "id": "v304kLqt5IKm",
        "outputId": "8787ce95-eb8e-40ac-f781-91a9928b075f",
        "colab": {
          "base_uri": "https://localhost:8080/"
        }
      },
      "execution_count": null,
      "outputs": [
        {
          "output_type": "stream",
          "name": "stdout",
          "text": [
            "Nombre del alumno: Penélope Camacho\n"
          ]
        }
      ]
    },
    {
      "cell_type": "code",
      "source": [
        "nombre_alumno = 'Fabricio Daniel'\n",
        "edad_alumno = 15\n",
        "media_alumno = 9.95\n",
        "print('Nombre del alumno es {}, tiene {} años y su media es {}.' .format(nombre_alumno, edad_alumno, media_alumno))"
      ],
      "metadata": {
        "id": "BIU01WYP6VIx",
        "outputId": "fc91daf3-8540-44d3-ee15-bc80c7cc04aa",
        "colab": {
          "base_uri": "https://localhost:8080/"
        }
      },
      "execution_count": null,
      "outputs": [
        {
          "output_type": "stream",
          "name": "stdout",
          "text": [
            "Nombre del alumno es Fabricio Daniel, tiene 15 años y su media es 9.95.\n"
          ]
        }
      ]
    },
    {
      "cell_type": "markdown",
      "source": [
        "##Caracteres Especiales:"
      ],
      "metadata": {
        "id": "PTmpoYAk6ZUF"
      }
    },
    {
      "cell_type": "code",
      "source": [
        "print(\"Estudiar es un esfuerzo constante,\\nEs como cultivar una planta,\\nNecesitamos dedicación y paciencia,\\nPara ver madurar el fruto.\")"
      ],
      "metadata": {
        "id": "tA08rx1z6cZj",
        "outputId": "79023357-4cff-47bc-86ce-1efa28000f88",
        "colab": {
          "base_uri": "https://localhost:8080/"
        }
      },
      "execution_count": null,
      "outputs": [
        {
          "output_type": "stream",
          "name": "stdout",
          "text": [
            "Estudiar es un esfuerzo constante,\n",
            "Es como cultivar una planta,\n",
            "Necesitamos dedicación y paciencia,\n",
            "Para ver madurar el fruto.\n"
          ]
        }
      ]
    },
    {
      "cell_type": "code",
      "source": [
        "print('Cantidad\\tCalidad\\n5 muestras\\tAlta\\n3 muestras\\tBaja')"
      ],
      "metadata": {
        "id": "yjL0psFE6fZ_",
        "outputId": "fb7b8eb9-b976-4a92-d20c-65fec6d6a2a7",
        "colab": {
          "base_uri": "https://localhost:8080/"
        }
      },
      "execution_count": null,
      "outputs": [
        {
          "output_type": "stream",
          "name": "stdout",
          "text": [
            "Cantidad\tCalidad\n",
            "5 muestras\tAlta\n",
            "3 muestras\tBaja\n"
          ]
        }
      ]
    },
    {
      "cell_type": "code",
      "source": [
        "print(\"Ruta del archivo: C:\\\\archivos\\\\documento.csv\")"
      ],
      "metadata": {
        "id": "fDMwMu7a6iGy",
        "outputId": "8c7a9fbf-c6c7-4522-c6ec-93b88b67c35a",
        "colab": {
          "base_uri": "https://localhost:8080/"
        }
      },
      "execution_count": null,
      "outputs": [
        {
          "output_type": "stream",
          "name": "stdout",
          "text": [
            "Ruta del archivo: C:\\archivos\\documento.csv\n"
          ]
        }
      ]
    },
    {
      "cell_type": "code",
      "source": [
        "print(\"Una vez oí: \\\"Los frutos del conocimiento son los más dulces y duraderos de todos.\\\"\")"
      ],
      "metadata": {
        "id": "pync1feo64Pu",
        "outputId": "392940da-affc-42ef-c3c4-f0bc1ff0f77b",
        "colab": {
          "base_uri": "https://localhost:8080/"
        }
      },
      "execution_count": null,
      "outputs": [
        {
          "output_type": "stream",
          "name": "stdout",
          "text": [
            "Una vez oí: \"Los frutos del conocimiento son los más dulces y duraderos de todos.\"\n"
          ]
        }
      ]
    },
    {
      "cell_type": "markdown",
      "source": [
        "##Desafío: ¡Es hora de practicar!"
      ],
      "metadata": {
        "id": "zDibEnv98Lmd"
      }
    },
    {
      "cell_type": "markdown",
      "source": [
        "1 - Crea un programa que solicite al usuario que escriba su nombre y luego imprima \"Hola, [nombre].\""
      ],
      "metadata": {
        "id": "U7Fjhgum8RIi"
      }
    },
    {
      "cell_type": "code",
      "source": [
        "nombre = input('¿Cuál es tu nombre? ')\n",
        "print('Hola, {}.' .format(nombre))"
      ],
      "metadata": {
        "id": "wsYmyxH_8QRw",
        "outputId": "469d40c0-dad8-438e-de63-48fec2bad263",
        "colab": {
          "base_uri": "https://localhost:8080/"
        }
      },
      "execution_count": null,
      "outputs": [
        {
          "output_type": "stream",
          "name": "stdout",
          "text": [
            "¿Cuál es tu nombre? Edgar Gs\n",
            "Hola, Edgar Gs.\n"
          ]
        }
      ]
    },
    {
      "cell_type": "markdown",
      "source": [
        "2 - Crea un programa que solicite al usuario que escriba su nombre y edad, y luego imprima \"Hola, [nombre], tienes [edad] años.\""
      ],
      "metadata": {
        "id": "qOlFM2O88T5b"
      }
    },
    {
      "cell_type": "code",
      "source": [
        "nombre = input('¿Cuál es tu nombre? ')\n",
        "edad = input('¿Cuál es tu edad? ')\n",
        "print('Hola, {}, tienes {} años.' .format(nombre, edad))"
      ],
      "metadata": {
        "id": "oiHyTL8I9usU",
        "outputId": "9f30d508-8173-4820-cdd8-6f555a8f56cb",
        "colab": {
          "base_uri": "https://localhost:8080/"
        }
      },
      "execution_count": null,
      "outputs": [
        {
          "output_type": "stream",
          "name": "stdout",
          "text": [
            "¿Cuál es tu nombre? Edgar Gs\n",
            "¿Cuál es tu edad? 23\n",
            "Hola, Edgar Gs, tienes 23 años.\n"
          ]
        }
      ]
    },
    {
      "cell_type": "markdown",
      "source": [
        "3 - Crea un programa que solicite al usuario que escriba su nombre, edad y altura en metros, y luego imprima \"Hola, [nombre], tienes [edad] años y mides [altura] metros.\""
      ],
      "metadata": {
        "id": "11KoVj358VbG"
      }
    },
    {
      "cell_type": "code",
      "source": [
        "nombre = input('¿Cuál es tu nombre? ')\n",
        "edad = input('¿Cuál es tu edad? ')\n",
        "altura = input('¿Cuál es tu altura? ')\n",
        "print('Hola, {}, tienes {} años y mides {} metros.' .format(nombre, edad, altura))"
      ],
      "metadata": {
        "id": "grNvaku38XXB",
        "outputId": "e8274dbe-c5ee-4bae-82e4-6ac293fb6fd2",
        "colab": {
          "base_uri": "https://localhost:8080/"
        }
      },
      "execution_count": null,
      "outputs": [
        {
          "output_type": "stream",
          "name": "stdout",
          "text": [
            "¿Cuál es tu nombre? Edgar Gs\n",
            "¿Cuál es tu edad? 21\n",
            "¿Cuál es tu altura? 1.76\n",
            "Hola, Edgar Gs, tienes 21 años y mides 1.76 metros.\n"
          ]
        }
      ]
    },
    {
      "cell_type": "markdown",
      "source": [
        "4 - Crea un programa que solicite dos valores numéricos al usuario y luego imprima la suma de ambos valores."
      ],
      "metadata": {
        "id": "y4oFRj238ZGb"
      }
    },
    {
      "cell_type": "code",
      "source": [
        "numero1 = int(input('Digite el primer número: '))\n",
        "numero2 = int(input('Digite el segundo número: '))\n",
        "print('La suma de los números es: {}' .format(numero1 + numero2))"
      ],
      "metadata": {
        "id": "r_5dXRQY-qnv",
        "outputId": "b577d72e-c424-40ed-fc1e-487ca09adba6",
        "colab": {
          "base_uri": "https://localhost:8080/"
        }
      },
      "execution_count": null,
      "outputs": [
        {
          "output_type": "stream",
          "name": "stdout",
          "text": [
            "Digite el primer número: 58\n",
            "Digite el segundo número: 78\n",
            "La suma de los números es: 136\n"
          ]
        }
      ]
    },
    {
      "cell_type": "markdown",
      "source": [
        "5 - Crea un programa que solicite tres valores numéricos al usuario y luego imprima la suma de los tres valores."
      ],
      "metadata": {
        "id": "pt_F9CEA8avm"
      }
    },
    {
      "cell_type": "code",
      "source": [
        "numero1 = int(input('Digite el primer número: '))\n",
        "numero2 = int(input('Digite el segundo número: '))\n",
        "numero3 = int(input('Digite el tercer número: '))\n",
        "print('La suma de los números es: {}' .format(numero1 + numero2 + numero3))"
      ],
      "metadata": {
        "id": "r1u2We_P_GE8",
        "outputId": "8f2f8873-54f7-4324-bee7-09215358e261",
        "colab": {
          "base_uri": "https://localhost:8080/"
        }
      },
      "execution_count": null,
      "outputs": [
        {
          "output_type": "stream",
          "name": "stdout",
          "text": [
            "Digite el primer número: 98\n",
            "Digite el segundo número: 558\n",
            "Digite el tercer número: 645\n",
            "La suma de los números es: 1301\n"
          ]
        }
      ]
    },
    {
      "cell_type": "markdown",
      "source": [
        "6 - Crea un programa que solicite dos valores numéricos al usuario y luego imprima la resta del primero menos el segundo valor."
      ],
      "metadata": {
        "id": "0BbZB-dG8caN"
      }
    },
    {
      "cell_type": "code",
      "source": [
        "numero1 = int(input('Digite el primer número: '))\n",
        "numero2 = int(input('Digite el segundo número: '))\n",
        "print('La resta de los números es: {}' .format(numero1 - numero2))"
      ],
      "metadata": {
        "id": "JxsaabXt_PHp",
        "outputId": "c59a425c-2a48-4006-ded9-17f305ad324f",
        "colab": {
          "base_uri": "https://localhost:8080/"
        }
      },
      "execution_count": null,
      "outputs": [
        {
          "output_type": "stream",
          "name": "stdout",
          "text": [
            "Digite el primer número: 84\n",
            "Digite el segundo número: 7461\n",
            "La resta de los números es: -7377\n"
          ]
        }
      ]
    },
    {
      "cell_type": "markdown",
      "source": [
        "7 - Crea un programa que solicite dos valores numéricos al usuario y luego imprima la multiplicación de los dos valores."
      ],
      "metadata": {
        "id": "rQrLom7l8eJD"
      }
    },
    {
      "cell_type": "code",
      "source": [
        "numero1 = int(input('Digite el primer número: '))\n",
        "numero2 = int(input('Digite el segundo número: '))\n",
        "print('La multiplicación de los números es: {}' .format(numero1 * numero2))"
      ],
      "metadata": {
        "id": "K-OD58XR_aFE",
        "outputId": "bcbce23d-2366-4e0e-b377-17cc036ad992",
        "colab": {
          "base_uri": "https://localhost:8080/"
        }
      },
      "execution_count": null,
      "outputs": [
        {
          "output_type": "stream",
          "name": "stdout",
          "text": [
            "Digite el primer número: 87\n",
            "Digite el segundo número: 47\n",
            "La multiplicación de los números es: 4089\n"
          ]
        }
      ]
    },
    {
      "cell_type": "markdown",
      "source": [
        "8 - Crea un programa que solicite dos valores numéricos, un numerador y un denominador, y realice la división entre los dos valores. Asegúrate de que el valor del denominador no sea igual a 0."
      ],
      "metadata": {
        "id": "fVxIUD8i8f1f"
      }
    },
    {
      "cell_type": "code",
      "source": [
        "numerador = int(input('Digite el numerador: '))\n",
        "denominador = int(input('Digite el denominador: '))\n",
        "print('La división de los números es: %.3f' %(numerador / denominador))"
      ],
      "metadata": {
        "id": "DfmM9_G0_fHt",
        "outputId": "3ede0542-e732-4481-a074-e40277622621",
        "colab": {
          "base_uri": "https://localhost:8080/"
        }
      },
      "execution_count": null,
      "outputs": [
        {
          "output_type": "stream",
          "name": "stdout",
          "text": [
            "Digite el numerador: 78\n",
            "Digite el denominador: 7\n",
            "La división de los números es: 11.143\n"
          ]
        }
      ]
    },
    {
      "cell_type": "markdown",
      "source": [
        "9 - Crea un programa que solicite dos valores numéricos, un operador y una potencia, y realice la exponenciación entre estos dos valores."
      ],
      "metadata": {
        "id": "3A3MqMBM8hc2"
      }
    },
    {
      "cell_type": "code",
      "source": [
        "numero1 = float(input('Digite el primer número: '))\n",
        "numero2 = float(input('Digite el segundo número: '))\n",
        "print('La exponenciación de los números es: %.2f' %(numero1 ** numero2))"
      ],
      "metadata": {
        "id": "0l7W8cbRAOO6",
        "outputId": "cbcc31ad-4eff-495a-ccd2-9ca32de12fec",
        "colab": {
          "base_uri": "https://localhost:8080/"
        }
      },
      "execution_count": null,
      "outputs": [
        {
          "output_type": "stream",
          "name": "stdout",
          "text": [
            "Digite el primer número: 87.8\n",
            "Digite el segundo número: 2\n",
            "La exponenciación de los números es: 7708.84\n"
          ]
        }
      ]
    },
    {
      "cell_type": "markdown",
      "source": [
        "10 - Crea un programa que solicite dos valores numéricos, un numerador y un denominador, y realice la división entera entre los dos valores. Asegúrate de que el valor del denominador no sea igual a 0."
      ],
      "metadata": {
        "id": "qpQg9MsT8yqa"
      }
    },
    {
      "cell_type": "code",
      "source": [
        "numerador = int(input(\"Introduce el numerador (número a dividir): \"))\n",
        "denominador = int(input(\"Introduce el denominador (divisor): \"))\n",
        "\n",
        "if denominador == 0:\n",
        "    print(\"Error: No se puede dividir por cero.\")\n",
        "else:\n",
        "    resultado = numerador // denominador\n",
        "    print(f\"El resultado de la división entera {numerador} // {denominador} es: {resultado}\")"
      ],
      "metadata": {
        "id": "Jv-7blWxBHlS",
        "outputId": "edcadfe1-0bea-41c9-e0c2-32c14fa344d3",
        "colab": {
          "base_uri": "https://localhost:8080/"
        }
      },
      "execution_count": null,
      "outputs": [
        {
          "output_type": "stream",
          "name": "stdout",
          "text": [
            "Introduce el numerador (número a dividir): 8\n",
            "Introduce el denominador (divisor): 7\n",
            "El resultado de la división entera 8 // 7 es: 1\n"
          ]
        }
      ]
    },
    {
      "cell_type": "markdown",
      "source": [
        "11 - Crea un programa que solicite dos valores numéricos, un numerador y un denominador, y devuelva el resto de la división entre los dos valores. Asegúrate de que el valor del denominador no sea igual a 0."
      ],
      "metadata": {
        "id": "v9CPRwTj81LU"
      }
    },
    {
      "cell_type": "code",
      "source": [
        "numerador = int(input(\"Introduce el numerador (número a dividir): \"))\n",
        "denominador = int(input(\"Introduce el denominador (divisor): \"))\n",
        "\n",
        "if denominador == 0:\n",
        "    print(\"Error: No se puede dividir por cero.\")\n",
        "else:\n",
        "    resultado = numerador % denominador\n",
        "    print(f\"El resultado de el resto de la division es: {resultado}\")"
      ],
      "metadata": {
        "id": "BTs8AztoCI_M",
        "outputId": "c5ce7acc-ee71-4323-bf80-5afc59715792",
        "colab": {
          "base_uri": "https://localhost:8080/"
        }
      },
      "execution_count": null,
      "outputs": [
        {
          "output_type": "stream",
          "name": "stdout",
          "text": [
            "Introduce el numerador (número a dividir): 52\n",
            "Introduce el denominador (divisor): 4\n",
            "El resultado de el resto de la division es: 0\n"
          ]
        }
      ]
    },
    {
      "cell_type": "markdown",
      "source": [
        "12 - Crea un código que solicite las 3 notas de un estudiante e imprima el promedio de las notas."
      ],
      "metadata": {
        "id": "tPcXJKH484FS"
      }
    },
    {
      "cell_type": "code",
      "source": [
        "nota1 = float(input('Digite la primera nota: '))\n",
        "nota2 = float(input('Digite la segunda nota: '))\n",
        "nota3 = float(input('Digite la tercera nota: '))\n",
        "print('El promedio de las notas es: %.2f' %((nota1 + nota2 + nota3)/3))"
      ],
      "metadata": {
        "id": "P2a_ZP1VDoOd",
        "outputId": "8fd6a04f-8b6c-411d-9713-14fa09080d21",
        "colab": {
          "base_uri": "https://localhost:8080/"
        }
      },
      "execution_count": null,
      "outputs": [
        {
          "output_type": "stream",
          "name": "stdout",
          "text": [
            "Digite la primera nota: 87.8\n",
            "Digite la segunda nota: 87.9\n",
            "Digite la tercera nota: 78.9\n",
            "El promedio de las notas es: 84.87\n"
          ]
        }
      ]
    },
    {
      "cell_type": "markdown",
      "source": [
        "13 - Crea un código que calcule e imprima el promedio ponderado de los números 5, 12, 20 y 15 con pesos respectivamente iguales a 1, 2, 3 y 4."
      ],
      "metadata": {
        "id": "dJUi7C0686n1"
      }
    },
    {
      "cell_type": "code",
      "source": [
        "media_ponderada = (5*1 + 12*2 + 20*3 + 15*4) / (1+2+3+4)\n",
        "print(f'El resultado es: {media_ponderada}')"
      ],
      "metadata": {
        "id": "1QXW0WG-EBye",
        "outputId": "93325137-12d0-42f9-a1b4-f75e92985b1f",
        "colab": {
          "base_uri": "https://localhost:8080/"
        }
      },
      "execution_count": null,
      "outputs": [
        {
          "output_type": "stream",
          "name": "stdout",
          "text": [
            "El resultado es: 14.9\n"
          ]
        }
      ]
    },
    {
      "cell_type": "markdown",
      "source": [
        "14 - Crea una variable llamada \"frase\" y asígnale una cadena de texto de tu elección. Luego, imprime la frase en pantalla."
      ],
      "metadata": {
        "id": "VuJburwM89Rf"
      }
    },
    {
      "cell_type": "code",
      "source": [
        "frase = 'Hola, ¿cómo estás?'\n",
        "print(frase)"
      ],
      "metadata": {
        "id": "dZJWhRDnFA-W",
        "outputId": "32d91347-4214-44ab-bd24-f578de54cb7c",
        "colab": {
          "base_uri": "https://localhost:8080/"
        }
      },
      "execution_count": null,
      "outputs": [
        {
          "output_type": "stream",
          "name": "stdout",
          "text": [
            "Hola, ¿cómo estás?\n"
          ]
        }
      ]
    },
    {
      "cell_type": "markdown",
      "source": [
        "15 - Crea un código que solicite una frase y luego imprima la frase en pantalla."
      ],
      "metadata": {
        "id": "JUPQLRoq8-_C"
      }
    },
    {
      "cell_type": "code",
      "source": [
        "frase = input('Dame una frase: ')\n",
        "print(frase)"
      ],
      "metadata": {
        "id": "dxqmsqU2FF2z",
        "outputId": "edc879cb-53ea-45da-8f48-be4e351e8fda",
        "colab": {
          "base_uri": "https://localhost:8080/"
        }
      },
      "execution_count": null,
      "outputs": [
        {
          "output_type": "stream",
          "name": "stdout",
          "text": [
            "Dame una frase: Holaaaaaaaaaaaaaaa\n",
            "Holaaaaaaaaaaaaaaa\n"
          ]
        }
      ]
    },
    {
      "cell_type": "markdown",
      "source": [
        "16 - Crea un código que solicite una frase al usuario y luego imprima la misma frase ingresada pero en mayúsculas."
      ],
      "metadata": {
        "id": "jSTcdsIl9DF-"
      }
    },
    {
      "cell_type": "code",
      "source": [
        "frase = input('Dame una frase: ')\n",
        "print(frase.upper())"
      ],
      "metadata": {
        "id": "lQiMRco5FTkA",
        "outputId": "42e9665c-6da1-4441-d1e3-2242e387b14d",
        "colab": {
          "base_uri": "https://localhost:8080/"
        }
      },
      "execution_count": null,
      "outputs": [
        {
          "output_type": "stream",
          "name": "stdout",
          "text": [
            "Dame una frase: hola mundo!\n",
            "HOLA MUNDO!\n"
          ]
        }
      ]
    },
    {
      "cell_type": "markdown",
      "source": [
        "17 - Crea un código que solicite una frase al usuario y luego imprima la misma frase ingresada pero en minúsculas."
      ],
      "metadata": {
        "id": "PfjgIfSq9FkP"
      }
    },
    {
      "cell_type": "code",
      "source": [
        "frase = input('Dame una frase: ')\n",
        "print(frase.lower())"
      ],
      "metadata": {
        "id": "27mgPwtEFqEW",
        "outputId": "5d95526c-449a-4f98-e7f0-12c3d6e05955",
        "colab": {
          "base_uri": "https://localhost:8080/"
        }
      },
      "execution_count": null,
      "outputs": [
        {
          "output_type": "stream",
          "name": "stdout",
          "text": [
            "Dame una frase: MI MAMA ME MIA\n",
            "mi mama me mia\n"
          ]
        }
      ]
    },
    {
      "cell_type": "markdown",
      "source": [
        "18 - Crea una variable llamada \"frase\" y asígnale una cadena de texto de tu elección. Luego, imprime la frase sin espacios en blanco al principio y al final."
      ],
      "metadata": {
        "id": "SWO0ZYjJ9Hmq"
      }
    },
    {
      "cell_type": "code",
      "source": [
        "frase = ' Hola, ¿cómo estás? '\n",
        "print(frase.strip())"
      ],
      "metadata": {
        "id": "E7gqwU9kFvyU",
        "outputId": "347e4e7f-e4dd-4acc-e27e-05afc266b583",
        "colab": {
          "base_uri": "https://localhost:8080/"
        }
      },
      "execution_count": null,
      "outputs": [
        {
          "output_type": "stream",
          "name": "stdout",
          "text": [
            "Hola, ¿cómo estás?\n"
          ]
        }
      ]
    },
    {
      "cell_type": "markdown",
      "source": [
        "19 - Crea un código que solicite una frase al usuario y luego imprima la misma frase sin espacios en blanco al principio y al final."
      ],
      "metadata": {
        "id": "J92w7L3T9JUY"
      }
    },
    {
      "cell_type": "code",
      "source": [
        "frase = input('Dame una frase: ')\n",
        "print(frase.strip())"
      ],
      "metadata": {
        "id": "_0kN-MOXGEZ8",
        "outputId": "91237f41-69b1-4bd0-96fb-3bac7bd0c222",
        "colab": {
          "base_uri": "https://localhost:8080/"
        }
      },
      "execution_count": null,
      "outputs": [
        {
          "output_type": "stream",
          "name": "stdout",
          "text": [
            "Dame una frase:   Holaaaaa   \n",
            "Holaaaaa\n"
          ]
        }
      ]
    },
    {
      "cell_type": "markdown",
      "source": [
        "20 - Crea un código que solicite una frase al usuario y luego imprima la misma frase sin espacios en blanco al principio y al final, además de convertirla a minúsculas."
      ],
      "metadata": {
        "id": "ieUyduFZ9K6F"
      }
    },
    {
      "cell_type": "code",
      "source": [
        "frase = input('Dame una frase: ')\n",
        "print(frase.strip().lower())"
      ],
      "metadata": {
        "id": "4QoX5EqbGJS4",
        "outputId": "e002f2de-ec74-41b2-f5f7-4bff7ad1cd8a",
        "colab": {
          "base_uri": "https://localhost:8080/"
        }
      },
      "execution_count": null,
      "outputs": [
        {
          "output_type": "stream",
          "name": "stdout",
          "text": [
            "Dame una frase:     MAMAMAMAMAMA JAJAJAJA     \n",
            "mamamamamama jajajaja\n"
          ]
        }
      ]
    },
    {
      "cell_type": "markdown",
      "source": [
        "21 - Crea un código que solicite una frase al usuario y luego imprima la misma frase con todas las vocales \"e\" reemplazadas por la letra \"f\"."
      ],
      "metadata": {
        "id": "cFghzxTk9MiT"
      }
    },
    {
      "cell_type": "code",
      "source": [
        "frase = input('Dame una frase: ')\n",
        "print(frase.replace('e', 'f'))"
      ],
      "metadata": {
        "id": "VY7ZgI63GPnL",
        "outputId": "d1fc51f6-3d59-4668-fc47-54a17c91b30f",
        "colab": {
          "base_uri": "https://localhost:8080/"
        }
      },
      "execution_count": null,
      "outputs": [
        {
          "output_type": "stream",
          "name": "stdout",
          "text": [
            "Dame una frase: Estamos perdidas la verdad de dios \n",
            "Estamos pfrdidas la vfrdad df dios \n"
          ]
        }
      ]
    },
    {
      "cell_type": "markdown",
      "source": [
        "22 - Crea un código que solicite una frase al usuario y luego imprima la misma frase con todas las vocales \"a\" reemplazadas por el carácter \"@\"."
      ],
      "metadata": {
        "id": "ah38klK99OU_"
      }
    },
    {
      "cell_type": "code",
      "source": [
        "frase = input('Dame una frase: ')\n",
        "print(frase.replace('a', '@'))"
      ],
      "metadata": {
        "id": "PCO5jncuGrN7",
        "outputId": "1d8c81ab-6685-4044-8440-b6a0ed5d480e",
        "colab": {
          "base_uri": "https://localhost:8080/"
        }
      },
      "execution_count": null,
      "outputs": [
        {
          "output_type": "stream",
          "name": "stdout",
          "text": [
            "Dame una frase: Mi mama me mima, me mima mi mama\n",
            "Mi m@m@ me mim@, me mim@ mi m@m@\n"
          ]
        }
      ]
    },
    {
      "cell_type": "markdown",
      "source": [
        "23 - Crea un código que solicite una frase al usuario y luego imprima la misma frase con todas las consonantes \"s\" reemplazadas por el carácter \"$\"."
      ],
      "metadata": {
        "id": "oyHVlTS09P8V"
      }
    },
    {
      "cell_type": "code",
      "source": [
        "frase = input('Dame una frase: ')\n",
        "print(frase.replace('s', '$'))"
      ],
      "metadata": {
        "id": "nyYC88lZGw_f",
        "outputId": "1710de44-af00-4cb0-c46b-4541d90a90cb",
        "colab": {
          "base_uri": "https://localhost:8080/"
        }
      },
      "execution_count": null,
      "outputs": [
        {
          "output_type": "stream",
          "name": "stdout",
          "text": [
            "Dame una frase: Tengo sueño susi\n",
            "Tengo $ueño $u$i\n"
          ]
        }
      ]
    },
    {
      "cell_type": "markdown",
      "source": [
        "# Estructuras condicionales"
      ],
      "metadata": {
        "id": "NwRaiHHHhhyl"
      }
    },
    {
      "cell_type": "code",
      "source": [
        "# Nota de aprobación entre 7 y 10 == nota de aprobación >= 7\n",
        "# Nota de reprobación es menor que 7 == nota de reprobación < 7\n",
        "\n",
        "\"\"\"\n",
        "Si la nota es mayor o igual a 7 entonces el estudiante aprueba\n",
        "Si no, entonces el estudiante reprueba\n",
        "\"\"\""
      ],
      "metadata": {
        "id": "pa4gLncu-mvU"
      },
      "execution_count": null,
      "outputs": []
    },
    {
      "cell_type": "code",
      "source": [
        "'\\nSi la nota es mayor o igual a 7 entonces el estudiante aprueba\\nSi no, entonces el estudiante reprueba'"
      ],
      "metadata": {
        "id": "_cWRmDiE-m4p"
      },
      "execution_count": null,
      "outputs": []
    },
    {
      "cell_type": "markdown",
      "source": [
        "## `IF` y `ELSE`\n",
        "\n",
        "Los comandos `if` y `else` son dos estructuras condicionales. El comando `if` ejecutará el bloque de comandos en caso de que la condición citada sea  **verdadera**. El comando `else` ejecutará el bloque de comandos en el caso de que la condicional de `if` sea **falsa**."
      ],
      "metadata": {
        "id": "qXZqg9aYEhAh"
      }
    },
    {
      "cell_type": "markdown",
      "source": [
        "El comando `if` es una palabra clave en Python que significa \"si\". Este se emplea para conformar la estructura condicional, que te permite verificar si una determinada condición es verdadera o falsa e, inmediatamente después, ejecute un bloque de código específico dependiendo del resultado de la verificación. La sintaxis para usar el comando `if` es:\n",
        "\n",
        "\n",
        "\n",
        "```\n",
        "if condicion:\n",
        "    # Realiza algo\n",
        "```\n",
        "\n"
      ],
      "metadata": {
        "id": "EIhlqHXd2Gil"
      }
    },
    {
      "cell_type": "code",
      "source": [
        "if 2 < 7:\n",
        "  print('La condicion es verdadera.')"
      ],
      "metadata": {
        "id": "S2S6XAFz-czM",
        "outputId": "32840b0c-49d8-4fd2-86e5-27bf8a1d9389",
        "colab": {
          "base_uri": "https://localhost:8080/"
        }
      },
      "execution_count": null,
      "outputs": [
        {
          "output_type": "stream",
          "name": "stdout",
          "text": [
            "La condicion es verdadera.\n"
          ]
        }
      ]
    },
    {
      "cell_type": "code",
      "source": [
        "if 2 > 7:\n",
        "  print('La condicion es verdadera.')\n",
        "print('Fin de la consulta.')"
      ],
      "metadata": {
        "id": "YHkwMMyY-c1r",
        "outputId": "50dda5e1-4e66-46db-faac-67c61fdc69ec",
        "colab": {
          "base_uri": "https://localhost:8080/"
        }
      },
      "execution_count": null,
      "outputs": [
        {
          "output_type": "stream",
          "name": "stdout",
          "text": [
            "Fin de la consulta.\n"
          ]
        }
      ]
    },
    {
      "cell_type": "markdown",
      "source": [
        "Ya el comando `else` en Python se usa en junción con la palabra clave `if` para formar una estructura condicional. la sintaxis para usar el `else` es:\n",
        "\n",
        "```\n",
        "if condicion:\n",
        "  # codigo en caso de que sea verdad\n",
        "else:\n",
        "  # codigo en caso de que sea falso\n",
        "```\n",
        "\n",
        "el comando `else` se ejecuta cuando la condición verificada por el `if` es evaluada como `False`."
      ],
      "metadata": {
        "id": "27RW2v_sIKct"
      }
    },
    {
      "cell_type": "code",
      "source": [
        "if 2 > 7:\n",
        "  print('La condicion es verdadera.')\n",
        "else:\n",
        "  print('La condicion es falsa.')\n",
        "print('Fin de la consulta.')"
      ],
      "metadata": {
        "id": "ZTfNJd_f-aOq",
        "outputId": "96072095-81f5-451a-f19d-5ea0f64209b3",
        "colab": {
          "base_uri": "https://localhost:8080/"
        }
      },
      "execution_count": null,
      "outputs": [
        {
          "output_type": "stream",
          "name": "stdout",
          "text": [
            "La condicion es falsa.\n",
            "Fin de la consulta.\n"
          ]
        }
      ]
    },
    {
      "cell_type": "markdown",
      "source": [
        "Mayor que (>)"
      ],
      "metadata": {
        "id": "hC5rTfCsKm-a"
      }
    },
    {
      "cell_type": "code",
      "source": [
        "edad_maria = int(input('Ingrese la edad de María: '))\n",
        "edad_beatriz = int(input('Ingrese la edad de Beatriz: '))\n",
        "\n",
        "if edad_maria > edad_beatriz:\n",
        "  print('María es mayor que Beatriz.')"
      ],
      "metadata": {
        "id": "LPOb5MkV-btq",
        "outputId": "32943745-5bd3-4901-8ca2-428ada295c90",
        "colab": {
          "base_uri": "https://localhost:8080/"
        }
      },
      "execution_count": null,
      "outputs": [
        {
          "output_type": "stream",
          "name": "stdout",
          "text": [
            "Ingrese la edad de María: 87\n",
            "Ingrese la edad de Beatriz: 78\n",
            "María es mayor que Beatriz.\n"
          ]
        }
      ]
    },
    {
      "cell_type": "markdown",
      "source": [
        "Menor que (<)"
      ],
      "metadata": {
        "id": "EJc4lSIiK2nP"
      }
    },
    {
      "cell_type": "code",
      "source": [
        "edad_maria = int(input('Ingrese la edad de María: '))\n",
        "edad_beatriz = int(input('Ingrese la edad de Beatriz: '))\n",
        "\n",
        "if edad_maria < edad_beatriz:\n",
        "  print('María es menor que Beatriz.')"
      ],
      "metadata": {
        "id": "ZbEXKubVK3fM",
        "outputId": "4300a53e-224c-4f61-92b4-15eb8444d0d7",
        "colab": {
          "base_uri": "https://localhost:8080/"
        }
      },
      "execution_count": null,
      "outputs": [
        {
          "name": "stdout",
          "output_type": "stream",
          "text": [
            "Ingrese la edad de María: 78\n",
            "Ingrese la edad de Beatriz: 78\n"
          ]
        }
      ]
    },
    {
      "cell_type": "markdown",
      "source": [
        "Mayor o igual a (>=)"
      ],
      "metadata": {
        "id": "CE3sQrqfK622"
      }
    },
    {
      "cell_type": "code",
      "source": [
        "empleados_empresa_1 = int(input('Ingrese la cantidad de empleados de la empresa 1: '))\n",
        "empleados_empresa_2 = int(input('Ingrese la cantidad de empleados de la empresa 2: '))\n",
        "\n",
        "if empleados_empresa_1 >= empleados_empresa_2:\n",
        "  print('La empresa 1 tiene una cantidad de empleados mayor o igual a la empresa 2.')"
      ],
      "metadata": {
        "id": "VbryncmQK8WP",
        "outputId": "7787520a-0835-4ed4-fd72-d0aa83db3d99",
        "colab": {
          "base_uri": "https://localhost:8080/"
        }
      },
      "execution_count": null,
      "outputs": [
        {
          "output_type": "stream",
          "name": "stdout",
          "text": [
            "Ingrese la cantidad de empleados de la empresa 1: 78\n",
            "Ingrese la cantidad de empleados de la empresa 2: 78\n",
            "La empresa 1 tiene una cantidad de empleados mayor o igual a la empresa 2.\n"
          ]
        }
      ]
    },
    {
      "cell_type": "markdown",
      "source": [
        "Menor o igual a (<=)"
      ],
      "metadata": {
        "id": "rG4zURhyLLCJ"
      }
    },
    {
      "cell_type": "code",
      "source": [
        "empleados_empresa_1 = int(input('Ingrese la cantidad de empleados de la empresa 1: '))\n",
        "empleados_empresa_2 = int(input('Ingrese la cantidad de empleados de la empresa 2: '))\n",
        "\n",
        "if empleados_empresa_1 <= empleados_empresa_2:\n",
        "  print('La empresa 1 tiene una cantidad de empleados menor o igual a la empresa 2.')"
      ],
      "metadata": {
        "id": "9x5QJAYWLKn8",
        "outputId": "3095c0ab-5f2e-40ea-da5e-86b569a9ab7b",
        "colab": {
          "base_uri": "https://localhost:8080/"
        }
      },
      "execution_count": null,
      "outputs": [
        {
          "name": "stdout",
          "output_type": "stream",
          "text": [
            "Ingrese la cantidad de empleados de la empresa 1: 98\n",
            "Ingrese la cantidad de empleados de la empresa 2: 87\n"
          ]
        }
      ]
    },
    {
      "cell_type": "markdown",
      "source": [
        "Igual a (==)"
      ],
      "metadata": {
        "id": "UDsrLedNLS3U"
      }
    },
    {
      "cell_type": "code",
      "source": [
        "libro_1 = input('Ingrese el título del 1° libro: ')\n",
        "libro_2 = input('Ingrese el título del 2° libro: ')\n",
        "\n",
        "if libro_1 == libro_2:\n",
        "  print('Los libros tienen el mismo título.')"
      ],
      "metadata": {
        "id": "K2POKMUbLU0d",
        "outputId": "8633a236-eb5a-480f-84dc-7ba1726c669e",
        "colab": {
          "base_uri": "https://localhost:8080/"
        }
      },
      "execution_count": null,
      "outputs": [
        {
          "output_type": "stream",
          "name": "stdout",
          "text": [
            "Ingrese el título del 1° libro: Hola\n",
            "Ingrese el título del 2° libro: Hola\n",
            "Los libros tienen el mismo título.\n"
          ]
        }
      ]
    },
    {
      "cell_type": "markdown",
      "source": [
        "Diferente de (!=)"
      ],
      "metadata": {
        "id": "dZ-ptlJFLdu-"
      }
    },
    {
      "cell_type": "code",
      "source": [
        "libro_1 = input('Ingrese el título del 1° libro: ')\n",
        "libro_2 = input('Ingrese el título del 2° libro: ')\n",
        "\n",
        "if libro_1 != libro_2:\n",
        "  print('Los libros tienen títulos diferentes.')"
      ],
      "metadata": {
        "id": "NiBoUIynLkkw",
        "outputId": "09f136bb-7802-4cac-f840-0945f0e93bc9",
        "colab": {
          "base_uri": "https://localhost:8080/"
        }
      },
      "execution_count": null,
      "outputs": [
        {
          "output_type": "stream",
          "name": "stdout",
          "text": [
            "Ingrese el título del 1° libro: Yo\n",
            "Ingrese el título del 2° libro: tu\n",
            "Los libros tienen títulos diferentes.\n"
          ]
        }
      ]
    },
    {
      "cell_type": "markdown",
      "source": [
        "---\n",
        "**Situación:**\n",
        "\n",
        "Recibiremos el promedio de la nota de los estudiantes y necesitamos de un algoritmo que ejecute el análisis y determine si el estudiante fue **Aprobado** o **Reprobado**, mostrando un mensaje del resultado. Para ser aprobado, el promedio necesita ser igual o superior a 7.0."
      ],
      "metadata": {
        "id": "BqORg85XX-Nl"
      }
    },
    {
      "cell_type": "code",
      "source": [
        "nota = float(input('Ingrese la nota del estudiante: '))\n",
        "\n",
        "if nota >= 7.0:\n",
        "  print('El estudiante fue aprobado.')\n",
        "if 7 > nota >= 5.0:\n",
        "  print('El estudiante tuvo un promedio suficiente.')\n",
        "else:\n",
        "  print('El estudiante fue reprobado.')"
      ],
      "metadata": {
        "id": "UukCN4AQ-YYW",
        "outputId": "81d9e022-1bce-4029-9ef7-24a599913962",
        "colab": {
          "base_uri": "https://localhost:8080/"
        }
      },
      "execution_count": null,
      "outputs": [
        {
          "output_type": "stream",
          "name": "stdout",
          "text": [
            "Ingrese la nota del estudiante: 8.0\n",
            "El estudiante fue aprobado.\n",
            "El estudiante fue reprobado.\n"
          ]
        }
      ]
    },
    {
      "cell_type": "markdown",
      "source": [
        "Ahora, nuestra institución educativa estableció que las personas que tengan el promedio entre 5.0 y 7.0 pueden participar del curso de **Recuperación** durante las vacaciones para lograr aprobar.\n",
        "\n",
        "Entonces podemos apoyarnos en un conjunto de `if`s para poder estructurar esta nueva condición."
      ],
      "metadata": {
        "id": "bD9O17HB6LUo"
      }
    },
    {
      "cell_type": "code",
      "source": [],
      "metadata": {
        "id": "G9cJ5O9--W52"
      },
      "execution_count": null,
      "outputs": []
    },
    {
      "cell_type": "code",
      "source": [],
      "metadata": {
        "id": "iU-pjoJt-W89"
      },
      "execution_count": null,
      "outputs": []
    },
    {
      "cell_type": "markdown",
      "source": [
        "Observa que en casos con 3 situaciones como este necesitamos definir bien nuestras condiciones. Pues, si realizamos una condición con `else` al final, este irá a considerar solamente la condición `if` inmediatamente anterior para generar la salida en caso de que el resultado de su operación lógica sea **falso** dando como resultado, dos o más ejecuciones.\n",
        "\n",
        "Por ejemplo:"
      ],
      "metadata": {
        "id": "D5e2mByjvycO"
      }
    },
    {
      "cell_type": "code",
      "source": [],
      "metadata": {
        "id": "C21JmOuK-VU8"
      },
      "execution_count": null,
      "outputs": []
    },
    {
      "cell_type": "code",
      "source": [],
      "metadata": {
        "id": "bHiVgnPs-Vlv"
      },
      "execution_count": null,
      "outputs": []
    },
    {
      "cell_type": "markdown",
      "source": [
        "## `ELIF`\n",
        "\n",
        "El comando `elif` es una palabra clave en Python que significa \"si no, si\" y lo podemos considerar una *contracción* entre `else` e `if`. Se utiliza en conjunto con la palabra clave `if` para formar una estructura condicional en cadena."
      ],
      "metadata": {
        "id": "04T5g-7h4zWx"
      }
    },
    {
      "cell_type": "markdown",
      "source": [
        "la sintaxis para utilizar el comando `elif` es:\n",
        "\n",
        "```\n",
        "if condicion1:\n",
        "    # Realiza algo\n",
        "elif condicion2:\n",
        "    # Realiza otra cosa\n",
        "elif condicion3:\n",
        "    # Realiza otra cosa\n",
        "else:\n",
        "    # Realiza algo diferente\n",
        "```\n",
        "\n",
        "El comando `elif` permite que puedas verificar varias condiciones en cadena, economizando espacio en tu código. Si la primera condición se evalúa como `False`, el interpretador de Python evaluará la próxima condición con el `elif`. Ello continuará hasta que una condición sea evaluada como `True` o hasta que el `else` sea alcazado. Si ninguna de las condiciones es evaluada como `True`, la ejecución del código del comando `else` será iniciada."
      ],
      "metadata": {
        "id": "rNBHr5mm1Lm6"
      }
    },
    {
      "cell_type": "markdown",
      "source": [
        "Vamos a emplear el mismo caso anterior:"
      ],
      "metadata": {
        "id": "MVoykFbB4bd4"
      }
    },
    {
      "cell_type": "code",
      "source": [
        "nota = float(input('Ingrese la nota del estudiante: '))\n",
        "\n",
        "if nota >= 7.0:\n",
        "  print('El estudiante fue aprobado.')\n",
        "elif 7 > nota >= 5.0:\n",
        "  print('El estudiante tuvo un promedio suficiente.')\n",
        "else:\n",
        "  print('El estudiante fue reprobado.')"
      ],
      "metadata": {
        "id": "QFamB78s-TW_",
        "outputId": "0fc68c45-7387-4c91-d354-6e5cec3b03e0",
        "colab": {
          "base_uri": "https://localhost:8080/"
        }
      },
      "execution_count": null,
      "outputs": [
        {
          "output_type": "stream",
          "name": "stdout",
          "text": [
            "Ingrese la nota del estudiante: 7.1\n",
            "El estudiante fue aprobado.\n"
          ]
        }
      ]
    },
    {
      "cell_type": "markdown",
      "source": [
        "## Operadores\n",
        "\n",
        "Durante la construcción de comandos a veces necesitamos de una elaboración mayor de la expresión condicional, necesitando que algunos operadores lógicos se encuentren integrados."
      ],
      "metadata": {
        "id": "Tf1wSOem6iwZ"
      }
    },
    {
      "cell_type": "markdown",
      "source": [
        "### `AND`, `OR`, `NOT`\n",
        "\n",
        "Los operadores lógicos `and`, `or` y `not` son usados para combinar expresiones lógicas en Python. Ellos son usados frecuentemente en conjunto con el comando `if` para crear estructuras condicionales más complejas.\n"
      ],
      "metadata": {
        "id": "GFIZnRWXGPWO"
      }
    },
    {
      "cell_type": "markdown",
      "source": [
        "- `AND` es usado para verificar si dos condiciones son verdaderas. La expresión lógica¹ `x and y` se evalúa como `True` tan solo si **ambas condiciones `x` y `y` son verdaderas**, y como `False` en caso contrario.\n",
        "\n",
        "- `OR` es usado para verificar si al menos una de las condiciones es verdadera. La expresión lógica `x or y` se evalúa como `True` **si al menos una de las condiciones `x` o `y` es verdadera**, y como `False` si ambas condiciones son falsas.\n",
        "\n",
        "- `NOT` es usado para **negar una condición**. La expresión lógica `not x` es evaluada como `True` si la condición x es falsa, y como `False` si la condición x es verdadera.\n",
        "\n",
        "¹ Una expresión lógica es una declaración que puede ser evaluada como verdadera o falsa. Ella se compone por operandos lógicos² y por operadores lógicos³, que son usados ​​para combinar varias expresiones lógicas en una única expresión.\n",
        "\n",
        "² Los operandos lógicos son los elementos que son comparados o evaluados en una expresión lógica. Ellos son generalmente valores verdaderos o falsos, pero también pueden ser expresiones lógicas más complejas. En Python, los operandos lógicos son los valores `True` y `False`.\n",
        "\n",
        "³ Los operadores lógicos son ls símbolos o palabras clave que son usados ​​para combinar varias expresiones lógicas en una única expresión. En Python, los operadores lógicos son `and`, `or` y `not`, bien como las palabras clave `if`, `elif` e `else`."
      ],
      "metadata": {
        "id": "Z_dgAoHXJbzB"
      }
    },
    {
      "cell_type": "markdown",
      "source": [
        "> Operadores lógicos más comunes\n",
        "\n",
        "|a|b|AND|OR|NOT|\n",
        "|-|-|-|-|-|\n",
        "|0|0|0|0|1\n",
        "|0|1|0|1|-\n",
        "|1|0|0|1|-\n",
        "|1|1|1|1|0\n"
      ],
      "metadata": {
        "id": "2E5aUogf-49u"
      }
    },
    {
      "cell_type": "code",
      "source": [
        "v = True\n",
        "f = False"
      ],
      "metadata": {
        "id": "DFKmpvmS-Pa6"
      },
      "execution_count": null,
      "outputs": []
    },
    {
      "cell_type": "code",
      "source": [
        "if v and f:\n",
        "  print('Verdadero')\n",
        "else:\n",
        "  print('Falso')"
      ],
      "metadata": {
        "id": "W5BIrpOD-PeI",
        "outputId": "591866b0-af0e-4ffd-ba70-8546696fb3bb",
        "colab": {
          "base_uri": "https://localhost:8080/"
        }
      },
      "execution_count": null,
      "outputs": [
        {
          "output_type": "stream",
          "name": "stdout",
          "text": [
            "Falso\n"
          ]
        }
      ]
    },
    {
      "cell_type": "code",
      "source": [
        "if f or f:\n",
        "  print('Verdadero')\n",
        "else:\n",
        "  print('Falso')"
      ],
      "metadata": {
        "id": "fpDhYxq4-PiM",
        "outputId": "575003b6-2a24-4456-a9d5-889ed842228b",
        "colab": {
          "base_uri": "https://localhost:8080/"
        }
      },
      "execution_count": null,
      "outputs": [
        {
          "output_type": "stream",
          "name": "stdout",
          "text": [
            "Falso\n"
          ]
        }
      ]
    },
    {
      "cell_type": "code",
      "source": [
        "if v or v:\n",
        "  print('Verdadero')\n",
        "else:\n",
        "  print('Falso')"
      ],
      "metadata": {
        "id": "YdcTYJLvPSwJ",
        "outputId": "e8ae40d8-087a-436a-fccb-0f3d2d99316f",
        "colab": {
          "base_uri": "https://localhost:8080/"
        }
      },
      "execution_count": null,
      "outputs": [
        {
          "output_type": "stream",
          "name": "stdout",
          "text": [
            "Verdadero\n"
          ]
        }
      ]
    },
    {
      "cell_type": "code",
      "source": [
        "if not v:\n",
        "  print('Verdadero')\n",
        "else:\n",
        "  print('Falso')"
      ],
      "metadata": {
        "id": "1y6d7XcnPX-3",
        "outputId": "1ea5636a-efdc-49e1-826a-e0b4d5baaed9",
        "colab": {
          "base_uri": "https://localhost:8080/"
        }
      },
      "execution_count": null,
      "outputs": [
        {
          "output_type": "stream",
          "name": "stdout",
          "text": [
            "Falso\n"
          ]
        }
      ]
    },
    {
      "cell_type": "code",
      "source": [
        "if not f:\n",
        "  print('Verdadero')\n",
        "else:\n",
        "  print('Falso')"
      ],
      "metadata": {
        "id": "qBPGezIZPd-C",
        "outputId": "10f30a44-7b4a-4d4a-c8b9-7625b6fc0478",
        "colab": {
          "base_uri": "https://localhost:8080/"
        }
      },
      "execution_count": null,
      "outputs": [
        {
          "output_type": "stream",
          "name": "stdout",
          "text": [
            "Verdadero\n"
          ]
        }
      ]
    },
    {
      "cell_type": "markdown",
      "source": [
        "### `IN`\n",
        "\n",
        "Es usado para verificar si un elemento está presente en una lista, tupla u otra colección de conjunto. La expresión `x in y` se evalúa como `True` si el elemento `x` esta presente na variávelen la variable de conjunto `y`, y como `False` en caso contrario."
      ],
      "metadata": {
        "id": "w7EXG1dhWtja"
      }
    },
    {
      "cell_type": "markdown",
      "source": [
        "Podemos verificarlo con variables de texto.\n",
        "\n",
        "---\n",
        "\n",
        "**Situación:**\n",
        "\n",
        "En la escuela nos entregaron una lista con nombres de estudiantes que fueron aprobados según el promedio del semestre, pero es necesario verificar si algunos nombres están en esa lista para confirmar que los datos estén correctos.\n",
        "\n",
        "La lista distribuida puede ser observada a continuación:\n",
        "\n",
        "```\n",
        "lista = 'Juan Pérez, María González, Pedro Rodríguez, Ana López, Carlos Martínez,\n",
        "    Laura Sánchez, José García, Elena Fernández, Luis Morales, Carmen Torres,\n",
        "    David Ruiz, Isabel Ramírez, Javier Díaz, Sara Herrera, Miguel Castro,\n",
        "    Patricia Ortega, Francisco Vargas, Marta Jiménez, Manuel Medina, Rosa Molina,\n",
        "    Alejandro Silva, Silvia Ruiz, Andrés Torres, Natalia Soto, Diego Guerrero,\n",
        "    Paula Ríos, Ricardo Navarro, Alicia Cordero, Carlos Vidal, Lorena Gómez'\n",
        "```\n",
        "\n",
        "Los nombres que necesitas verificar son los siguientes:\n",
        "\n",
        "```\n",
        "nombre_1 = 'Miguel Castro'\n",
        "nombre_2 = 'Marcelo Noguera'\n",
        "```"
      ],
      "metadata": {
        "id": "enJNp6JenQbq"
      }
    },
    {
      "cell_type": "code",
      "source": [
        "lista = 'Juan Pérez, María González, Pedro Rodríguez, Ana López, Carlos Martínez, Laura Sánchez, José García, Elena Fernández, Luis Morales, Carmen Torres, David Ruiz, Isabel Ramírez, Javier Díaz, Sara Herrera, Miguel Castro, Patricia Ortega, Francisco Vargas, Marta Jiménez, Manuel Medina, Rosa Molina, Alejandro Silva, Silvia Ruiz, Andrés Torres, Natalia Soto, Diego Guerrero, Paula Ríos, Ricardo Navarro, Alicia Cordero, Carlos Vidal, Lorena Gómez'"
      ],
      "metadata": {
        "id": "gPPN9BCT-Mki"
      },
      "execution_count": null,
      "outputs": []
    },
    {
      "cell_type": "code",
      "source": [
        "nombre_1 = 'Miguel Castro'\n",
        "nombre_2 = 'Marcelo Noguera'"
      ],
      "metadata": {
        "id": "GINbG3Fa-Mnb"
      },
      "execution_count": null,
      "outputs": []
    },
    {
      "cell_type": "code",
      "source": [
        "if nombre_1 in lista:\n",
        "  print('El estudiante aprobo.')\n",
        "else:\n",
        "  print('El estudiante reprobo.')"
      ],
      "metadata": {
        "id": "hk-RhNRT-Mp7",
        "outputId": "e9c8c7f9-92a2-4fad-8300-83e27af9c6b5",
        "colab": {
          "base_uri": "https://localhost:8080/"
        }
      },
      "execution_count": null,
      "outputs": [
        {
          "output_type": "stream",
          "name": "stdout",
          "text": [
            "El estudiante aprobo.\n"
          ]
        }
      ]
    },
    {
      "cell_type": "code",
      "source": [
        "if nombre_2 in lista:\n",
        "  print('El estudiante aprobo.')\n",
        "else:\n",
        "  print('El estudiante reprobo.')"
      ],
      "metadata": {
        "id": "qxhdkDKyQL3F",
        "outputId": "2d9aa72d-34fc-4e0d-d305-5b8e5ff0bce7",
        "colab": {
          "base_uri": "https://localhost:8080/"
        }
      },
      "execution_count": null,
      "outputs": [
        {
          "output_type": "stream",
          "name": "stdout",
          "text": [
            "El estudiante reprobo.\n"
          ]
        }
      ]
    },
    {
      "cell_type": "markdown",
      "source": [
        "##Desafio: ¡Es hora de practicar!"
      ],
      "metadata": {
        "id": "0DpvdSNIQRwg"
      }
    },
    {
      "cell_type": "markdown",
      "source": [
        "1 - Escribe un programa que pida a la persona usuaria que proporcione dos números y muestre el número más grande."
      ],
      "metadata": {
        "id": "gkwb_T23QUk0"
      }
    },
    {
      "cell_type": "code",
      "source": [
        "# Recolectamos los números\n",
        "num1 = float(input('Ingrese el primer número: '))\n",
        "num2 = float(input('Ingrese el segundo número: '))\n",
        "# Comparamos ambos números y determinamos cuál es el mayor\n",
        "if num1 > num2:\n",
        "    print(f'El primer número es mayor: {num1}')\n",
        "elif num2 > num1:\n",
        "    print(f'El segundo número es mayor: {num2}')\n",
        "else: # En caso de que los números sean iguales\n",
        "    print('Ambos números son iguales.')"
      ],
      "metadata": {
        "id": "sIFJnO75htCo",
        "outputId": "88d68719-aac0-4551-d097-031bf214e518",
        "colab": {
          "base_uri": "https://localhost:8080/"
        }
      },
      "execution_count": 1,
      "outputs": [
        {
          "output_type": "stream",
          "name": "stdout",
          "text": [
            "Ingrese el primer número: 84\n",
            "Ingrese el segundo número: 45\n",
            "El primer número es mayor: 84.0\n"
          ]
        }
      ]
    },
    {
      "cell_type": "markdown",
      "source": [
        "2 - Escribe un programa que solicite el porcentaje de crecimiento de producción de una empresa e informe si hubo un crecimiento (porcentaje positivo) o una disminución (porcentaje negativo)."
      ],
      "metadata": {
        "id": "qDnAxPfzQYk0"
      }
    },
    {
      "cell_type": "code",
      "source": [
        "# Recolectamos el porcentaje\n",
        "variación = float(input('Ingrese el porcentaje de crecimiento: '))\n",
        "# Verificamos si el valor es positivo o negativo con una comparación para ver si el número\n",
        "# es mayor o menor que 0\n",
        "if variación > 0:\n",
        "    print(f'Hubo un crecimiento del {variación}%')\n",
        "elif variación < 0:\n",
        "    print(f'Hubo un decrecimiento del {variación}%')\n",
        "else:\n",
        "    print('No hubo crecimiento ni decrecimiento.')"
      ],
      "metadata": {
        "id": "jp75qZcrhzec",
        "outputId": "a73ed4d0-a944-4120-a449-25084070ffbe",
        "colab": {
          "base_uri": "https://localhost:8080/"
        }
      },
      "execution_count": 3,
      "outputs": [
        {
          "output_type": "stream",
          "name": "stdout",
          "text": [
            "Ingrese el porcentaje de crecimiento: 0.25\n",
            "Hubo un crecimiento del 0.25%\n"
          ]
        }
      ]
    },
    {
      "cell_type": "markdown",
      "source": [
        "3 - Escribe un programa que determine si una letra proporcionada por la persona usuaria es una vocal o una consonante."
      ],
      "metadata": {
        "id": "_06POsssQaJ1"
      }
    },
    {
      "cell_type": "code",
      "source": [
        "# Recolectamos la letra del usuario en minúsculas\n",
        "letra = input('Ingrese una letra: ').lower()\n",
        "vocales = 'aeiou' # cadena que contiene todas las vocales\n",
        "# Verificamos si la letra está en las vocales con `in`\n",
        "if letra in vocales:\n",
        "    print('La letra es una vocal.')\n",
        "else:\n",
        "    print('La letra es una consonante.')"
      ],
      "metadata": {
        "id": "v4vGXfL5h5is",
        "outputId": "046fb046-ff9a-4366-ad28-cf85ccfca90b",
        "colab": {
          "base_uri": "https://localhost:8080/"
        }
      },
      "execution_count": 4,
      "outputs": [
        {
          "output_type": "stream",
          "name": "stdout",
          "text": [
            "Ingrese una letra: s\n",
            "La letra es una consonante.\n"
          ]
        }
      ]
    },
    {
      "cell_type": "markdown",
      "source": [
        "4 - Escribe un programa que lea valores promedio de precios de un modelo de automóvil durante 3 años consecutivos y muestre el valor más alto y más bajo entre esos tres años."
      ],
      "metadata": {
        "id": "Kh3sjdhVQbj4"
      }
    },
    {
      "cell_type": "code",
      "source": [
        "# Recolectamos los precios de los 3 años\n",
        "precio_ano1 = float(input('Ingrese el precio promedio del automóvil en el primer año: '))\n",
        "precio_ano2 = float(input('Ingrese el precio promedio del automóvil en el segundo año: '))\n",
        "precio_ano3 = float(input('Ingrese el precio promedio del automóvil en el tercer año: '))\n",
        "# Determinamos el valor más alto mediante comparaciones\n",
        "mayor = precio_ano1\n",
        "if precio_ano2 > mayor:\n",
        "  mayor = precio_ano2\n",
        "if precio_ano3 > mayor:\n",
        "  mayor = precio_ano3\n",
        "# Determinamos el valor más bajo mediante comparaciones\n",
        "menor = precio_ano1\n",
        "if precio_ano2 < menor:\n",
        "  menor = precio_ano2\n",
        "if precio_ano3 < menor:\n",
        "  menor = precio_ano3\n",
        "# Mostramos los resultados\n",
        "print(f'El precio más alto fue de R$ {mayor}.')\n",
        "print(f'El precio más bajo fue de R$ {menor}.')"
      ],
      "metadata": {
        "id": "84CGKJ3Uh82O",
        "outputId": "31e72e68-17e3-4a2f-ef04-bbbf154f7186",
        "colab": {
          "base_uri": "https://localhost:8080/"
        }
      },
      "execution_count": 5,
      "outputs": [
        {
          "output_type": "stream",
          "name": "stdout",
          "text": [
            "Ingrese el precio promedio del automóvil en el primer año: 425000\n",
            "Ingrese el precio promedio del automóvil en el segundo año: 325000\n",
            "Ingrese el precio promedio del automóvil en el tercer año: 456102\n",
            "El precio más alto fue de R$ 456102.0.\n",
            "El precio más bajo fue de R$ 325000.0.\n"
          ]
        }
      ]
    },
    {
      "cell_type": "markdown",
      "source": [
        "5 - Escribe un programa que pregunte sobre el precio de tres productos e indique cuál es el producto más barato para comprar."
      ],
      "metadata": {
        "id": "U0t54oVsQdf5"
      }
    },
    {
      "cell_type": "code",
      "source": [
        "# Recolectamos el precio de tres productos\n",
        "producto1 = float(input('Ingrese el precio del primer producto: '))\n",
        "producto2 = float(input('Ingrese el precio del segundo producto: '))\n",
        "producto3 = float(input('Ingrese el precio del tercer producto: '))\n",
        "\n",
        "# Usamos el operador lógico `and` para determinar cuál es el precio más bajo entre los 3 productos\n",
        "# ya que esto nos permite hacer una comparación de 3 entradas\n",
        "if producto1 < producto2 and producto1 < producto3:\n",
        "    print('El primer producto es el más barato.')\n",
        "elif producto2 < producto1 and producto2 < producto3:\n",
        "    print('El segundo producto es el más barato.')\n",
        "else:\n",
        "    print('El tercer producto es el más barato.')"
      ],
      "metadata": {
        "id": "SEzaMEEMiEte",
        "outputId": "4a46bc21-38b2-49a2-96ba-d98d7687b821",
        "colab": {
          "base_uri": "https://localhost:8080/"
        }
      },
      "execution_count": 6,
      "outputs": [
        {
          "output_type": "stream",
          "name": "stdout",
          "text": [
            "Ingrese el precio del primer producto: 56.56\n",
            "Ingrese el precio del segundo producto: 48.54\n",
            "Ingrese el precio del tercer producto: 98.54\n",
            "El segundo producto es el más barato.\n"
          ]
        }
      ]
    },
    {
      "cell_type": "markdown",
      "source": [
        "6 - Escribe un programa que lea tres números y los muestre en orden descendente."
      ],
      "metadata": {
        "id": "X9UG4gGiQeyu"
      }
    },
    {
      "cell_type": "code",
      "source": [
        "# Recolectamos los 3 números\n",
        "num1 = int(input('Ingrese el primer número: '))\n",
        "num2 = int(input('Ingrese el segundo número: '))\n",
        "num3 = int(input('Ingrese el tercer número: '))\n",
        "\n",
        "# Comparación entre los 3 números\n",
        "if (num1 >= num2) and (num1 >= num3):\n",
        "    print(num1)\n",
        "    if num2 >= num3:\n",
        "        print(num2)\n",
        "        print(num3)\n",
        "    else:\n",
        "        print(num3)\n",
        "        print(num2)\n",
        "elif (num2 >= num1) and (num2 >= num3):\n",
        "    print(num2)\n",
        "    if num1 >= num3:\n",
        "        print(num1)\n",
        "        print(num3)\n",
        "    else:\n",
        "        print(num3)\n",
        "        print(num1)\n",
        "else:\n",
        "    print(num3)\n",
        "    if num1 >= num2:\n",
        "        print(num1)\n",
        "        print(num2)\n",
        "    else:\n",
        "        print(num2)\n",
        "        print(num1)"
      ],
      "metadata": {
        "id": "SXz1gs31iKgp",
        "outputId": "09685250-6f75-457f-afe3-12c494f674eb",
        "colab": {
          "base_uri": "https://localhost:8080/"
        }
      },
      "execution_count": 7,
      "outputs": [
        {
          "output_type": "stream",
          "name": "stdout",
          "text": [
            "Ingrese el primer número: 45\n",
            "Ingrese el segundo número: 87\n",
            "Ingrese el tercer número: 98\n",
            "98\n",
            "87\n",
            "45\n"
          ]
        }
      ]
    },
    {
      "cell_type": "markdown",
      "source": [
        "7 -Escribe un programa que pregunte en qué turno estudia la persona usuaria (\"mañana\", \"tarde\" o \"noche\") y muestre el mensaje \"¡Buenos Días!\", \"¡Buenas Tardes!\", \"¡Buenas Noches!\" o \"Valor Inválido!\", según el caso."
      ],
      "metadata": {
        "id": "i8Wz2T9mQgby"
      }
    },
    {
      "cell_type": "code",
      "source": [
        "# Recolectamos el turno de estudio\n",
        "turno = input('Ingresa en qué turno estudias (mañana, tarde o noche): ')\n",
        "\n",
        "# Comparamos la entrada con todas las opciones y mostramos el resultado.\n",
        "if turno == 'mañana':\n",
        "  print('¡Buenos Días!')\n",
        "elif turno == 'tarde':\n",
        "  print('¡Buenas Tardes!')\n",
        "elif turno == 'noche':\n",
        "  print('¡Buenas Noches!')\n",
        "else:\n",
        "  print('¡Valor Inválido!')"
      ],
      "metadata": {
        "id": "WL0bT6_riQGU",
        "outputId": "72b95efa-dc4d-4016-c385-96721bf79cba",
        "colab": {
          "base_uri": "https://localhost:8080/"
        }
      },
      "execution_count": 9,
      "outputs": [
        {
          "output_type": "stream",
          "name": "stdout",
          "text": [
            "Ingresa en qué turno estudias (mañana, tarde o noche): mañana\n",
            "¡Buenos Días!\n"
          ]
        }
      ]
    },
    {
      "cell_type": "markdown",
      "source": [
        "8 - Escribe un programa que solicite un número entero a la persona usuaria y determine si es par o impar. Pista: Puedes usar el operador módulo (%)."
      ],
      "metadata": {
        "id": "vDgbUYkNQkHH"
      }
    },
    {
      "cell_type": "code",
      "source": [
        "# Recolectamos los datos\n",
        "num = int(input('Ingresa un número: '))\n",
        "\n",
        "# Verificamos si el número es par según el resultado del módulo\n",
        "if num % 2 == 0:\n",
        "    print('El número es par.')\n",
        "else:\n",
        "    print('El número es impar.')"
      ],
      "metadata": {
        "id": "DPKA_wy_iWYH",
        "outputId": "017fa965-d513-45c2-db82-45b357da1ee0",
        "colab": {
          "base_uri": "https://localhost:8080/"
        }
      },
      "execution_count": 10,
      "outputs": [
        {
          "output_type": "stream",
          "name": "stdout",
          "text": [
            "Ingresa un número: 87\n",
            "El número es impar.\n"
          ]
        }
      ]
    },
    {
      "cell_type": "markdown",
      "source": [
        "9 - Escribe un programa que pida un número a la persona usuaria y le informe si es entero o decimal."
      ],
      "metadata": {
        "id": "X3FzOx1hQl8P"
      }
    },
    {
      "cell_type": "code",
      "source": [
        "# Recolectamos los datos\n",
        "num = float(input('Ingresa un número: '))\n",
        "# Verificamos si el número es entero o decimal según el resultado del módulo\n",
        "if num % 1 == 0:\n",
        "    print('El número es entero.')\n",
        "else:\n",
        "    print('El número es decimal.')"
      ],
      "metadata": {
        "id": "ukVmBegIiYMb",
        "outputId": "4b107b87-de5e-4d29-b6f3-bd649571f0bd",
        "colab": {
          "base_uri": "https://localhost:8080/"
        }
      },
      "execution_count": 12,
      "outputs": [
        {
          "output_type": "stream",
          "name": "stdout",
          "text": [
            "Ingresa un número: 78\n",
            "El número es entero.\n"
          ]
        }
      ]
    },
    {
      "cell_type": "markdown",
      "source": [
        "10 - Un programa debe ser escrito para leer dos números y luego preguntar a la persona usuaria qué operación desea realizar. El resultado de la operación debe incluir información sobre el número, si es par o impar, positivo o negativo, e entero o decimal."
      ],
      "metadata": {
        "id": "_S76425FQoC8"
      }
    },
    {
      "cell_type": "code",
      "source": [
        "# Recolectamos los números a operar y solicitamos la operación deseada por el usuario\n",
        "num1 = float(input('Ingrese el primer número: '))\n",
        "num2 = float(input('Ingrese el segundo número: '))\n",
        "operación = input('Ingrese la operación deseada (+, -, *, /): ')\n",
        "\n",
        "# Verificamos la operación seleccionada y realizamos la operación matemática según la elección\n",
        "if operación == '+':\n",
        "    resultado = num1 + num2\n",
        "elif operación == '-':\n",
        "    resultado = num1 - num2\n",
        "elif operación == '*':\n",
        "    resultado = num1 * num2\n",
        "elif operación == '/':\n",
        "    resultado = num1 / num2\n",
        "else: # Especificamos un resultado en caso de que el usuario no ingrese una de las operaciones correctamente.\n",
        "    print('Operación no válida, el resultado de la operación será 0')\n",
        "    resultado = 0\n",
        "\n",
        "# Realizamos las mismas verificaciones que en preguntas anteriores para generar el informe del cálculo entre números\n",
        "if resultado % 1 == 0:\n",
        "    print('El resultado es un número entero.')\n",
        "else:\n",
        "    print('El resultado es un número decimal.')\n",
        "\n",
        "if resultado > 0:\n",
        "    print('El resultado es positivo.')\n",
        "else:\n",
        "    print('El resultado es negativo.')\n",
        "\n",
        "if resultado % 2 == 0:\n",
        "    print('El resultado es un número par.')\n",
        "else:\n",
        "    print('El resultado es un número impar.')"
      ],
      "metadata": {
        "id": "9LhsMjKUigTm",
        "outputId": "1f86fe14-b87c-4d05-9a65-908e905fd7b7",
        "colab": {
          "base_uri": "https://localhost:8080/"
        }
      },
      "execution_count": 14,
      "outputs": [
        {
          "output_type": "stream",
          "name": "stdout",
          "text": [
            "Ingrese el primer número: 87\n",
            "Ingrese el segundo número: 524\n",
            "Ingrese la operación deseada (+, -, *, /): /\n",
            "El resultado es un número decimal.\n",
            "El resultado es positivo.\n",
            "El resultado es un número impar.\n"
          ]
        }
      ]
    },
    {
      "cell_type": "markdown",
      "source": [
        "11 - Escribe un programa que pida a la persona usuaria tres números que representan los lados de un triángulo. El programa debe informar si los valores pueden utilizarse para formar un triángulo y, en caso afirmativo, si es equilátero, isósceles o escaleno. Ten en cuenta algunas sugerencias:\n",
        "\n",
        "Tres lados forman un triángulo cuando la suma de cualesquiera dos lados es mayor que el tercero;\n",
        "* Triángulo Equilátero: tres lados iguales;\n",
        "* Triángulo Isósceles: dos lados iguales;\n",
        "* Triángulo Escaleno: tres lados diferentes."
      ],
      "metadata": {
        "id": "sZp6v-YvQpm2"
      }
    },
    {
      "cell_type": "code",
      "source": [
        "# Recolectamos los lados de un triángulo\n",
        "print('Estamos recopilando los lados de un triángulo.')\n",
        "lado1 = float(input('Ingresa la longitud del primer lado: '))\n",
        "lado2 = float(input('Ingresa la longitud del segundo lado: '))\n",
        "lado3 = float(input('Ingresa la longitud del tercer lado: '))\n",
        "\n",
        "# Verificamos si los lados pueden formar un triángulo\n",
        "if (lado1 + lado2 > lado3) and (lado2 + lado3 > lado1) and (lado1 + lado3 > lado2):\n",
        "    print('¡Los valores pueden formar un triángulo!')\n",
        "    # Comparamos los lados para determinar el tipo de triángulo\n",
        "    if (lado1 == lado2) and (lado2 == lado3):\n",
        "        print('El triángulo es equilátero.')\n",
        "    elif (lado1 != lado2) and (lado2 != lado3) and (lado1 != lado3):\n",
        "        print('El triángulo es escaleno.')\n",
        "    else:\n",
        "        print('El triángulo es isósceles.')\n",
        "else:\n",
        "    print('¡Los valores no pueden formar un triángulo!')"
      ],
      "metadata": {
        "id": "7dXQQDLRi-Cx",
        "outputId": "fa78405e-67a0-4c2a-8d80-a1950b3b01b1",
        "colab": {
          "base_uri": "https://localhost:8080/"
        }
      },
      "execution_count": 15,
      "outputs": [
        {
          "output_type": "stream",
          "name": "stdout",
          "text": [
            "Estamos recopilando los lados de un triángulo.\n",
            "Ingresa la longitud del primer lado: 58.7\n",
            "Ingresa la longitud del segundo lado: 58.7\n",
            "Ingresa la longitud del tercer lado: 35.4\n",
            "¡Los valores pueden formar un triángulo!\n",
            "El triángulo es isósceles.\n"
          ]
        }
      ]
    },
    {
      "cell_type": "markdown",
      "source": [
        "12 - Un establecimiento está vendiendo combustibles con descuentos variables. Para el etanol, si la cantidad comprada es de hasta 15 litros, el descuento será del 2% por litro. En caso contrario, será del 4% por litro. Para el diésel, si la cantidad comprada es de hasta 15 litros, el descuento será del 3% por litro. En caso contrario, será del 5% por litro. El precio por litro de diésel es de R 2,00 y el precio por litro de etanol es de R 1,70. Escribe un programa que lea la cantidad de litros vendidos y el tipo de combustible (E para etanol y D para diésel) y calcule el valor a pagar por el cliente. Ten en cuenta algunas sugerencias:\n",
        "\n",
        "* El valor del descuento será el producto del precio por litro, la cantidad de litros y el valor del descuento.\n",
        "* El valor a pagar por un cliente será el resultado de la multiplicación del precio por litro por la cantidad de litros menos el valor del descuento resultante del cálculo."
      ],
      "metadata": {
        "id": "UIbZVcvDQwpv"
      }
    },
    {
      "cell_type": "code",
      "source": [
        "# Recolectamos la cantidad de litros y el tipo de combustible,\n",
        "# convirtiendo el carácter en mayúsculas para facilitar nuestro análisis\n",
        "cantidad_litros = float(input('Ingrese la cantidad de litros vendidos: '))\n",
        "tipo_combustible = input('Ingrese el tipo de combustible (E para etanol y D para diésel): ').upper()\n",
        "\n",
        "# Verificamos primero el tipo de combustible\n",
        "if tipo_combustible == 'E':\n",
        "  # Establecemos el precio por litro de etanol\n",
        "  precio_litro = 1.70\n",
        "  # Según la cantidad de litros, establecemos el descuento correspondiente\n",
        "  if cantidad_litros <= 15:\n",
        "    descuento = 0.02\n",
        "  else:\n",
        "    descuento = 0.04\n",
        "elif tipo_combustible == 'D':\n",
        "  # Establecemos el precio por litro de diésel\n",
        "  precio_litro = 2.00\n",
        "  # Según la cantidad de litros, establecemos el descuento correspondiente\n",
        "  if cantidad_litros <= 15:\n",
        "    descuento = 0.03\n",
        "  else:\n",
        "    descuento = 0.05\n",
        "# En caso de error en la especificación del tipo de combustible,\n",
        "# consideramos las entradas como no válidas y establecemos los precios y descuentos en 0\n",
        "else:\n",
        "    print('Entradas no válidas!')\n",
        "    precio_litro = 0\n",
        "    descuento = 0\n",
        "\n",
        "# Calculamos el valor del descuento, seguido del cálculo del precio descontado\n",
        "valor_descuento = precio_litro * cantidad_litros * descuento\n",
        "valor_pagado = precio_litro * cantidad_litros - valor_descuento\n",
        "\n",
        "# Resultado\n",
        "print(f'Valor a pagar por el cliente: R$ {valor_pagado}')"
      ],
      "metadata": {
        "id": "sac6VSgejFem",
        "outputId": "84160d47-3459-4672-b395-ec30c4a062f9",
        "colab": {
          "base_uri": "https://localhost:8080/"
        }
      },
      "execution_count": 16,
      "outputs": [
        {
          "output_type": "stream",
          "name": "stdout",
          "text": [
            "Ingrese la cantidad de litros vendidos: 78\n",
            "Ingrese el tipo de combustible (E para etanol y D para diésel): D\n",
            "Valor a pagar por el cliente: R$ 148.2\n"
          ]
        }
      ]
    },
    {
      "cell_type": "markdown",
      "source": [
        "13 - En una empresa de venta de bienes raíces, debes crear un código que analice los datos de ventas anuales para ayudar a la dirección en la toma de decisiones. El código debe recopilar los datos de cantidad de ventas durante los años 2022 y 2023 y calcular la variación porcentual. A partir del valor de la variación, se deben proporcionar las siguientes sugerencias:\n",
        "\n",
        "* Para una variación superior al 20%: bonificación para el equipo de ventas.\n",
        "* Para una variación entre el 2% y el 20%: pequeña bonificación para el equipo de ventas.\n",
        "* Para una variación entre el 2% y el -10%: planificación de políticas de incentivo a las ventas.\n",
        "* Para bonificaciones inferiores al -10%: recorte de gastos."
      ],
      "metadata": {
        "id": "iG17S8n4Q1qN"
      }
    },
    {
      "cell_type": "code",
      "source": [
        "# Recolectamos las ventas de los dos años\n",
        "venta_2022 = float(input('Ingrese la cantidad de ventas en 2022: '))\n",
        "venta_2023 = float(input('Ingrese la cantidad de ventas en 2023: '))\n",
        "\n",
        "# Calculamos la variación porcentual entre las ventas de los años 2022 y 2023\n",
        "var_porcentual = 100 * (venta_2023 - venta_2022) / (venta_2022)\n",
        "\n",
        "# Análisis condicional de la variación porcentual para determinar la sugerencia a enviar\n",
        "if var_porcentual > 20:\n",
        "    print('Bonificación para el equipo de ventas.')\n",
        "elif 2 <= var_porcentual <= 20:\n",
        "    print('Pequeña bonificación para el equipo de ventas.')\n",
        "elif -10 <= var_porcentual < 2:\n",
        "    print('Planificación de políticas de incentivo a las ventas.')\n",
        "else:\n",
        "    print('Recorte de gastos.')"
      ],
      "metadata": {
        "id": "scmDOt8jjPXP",
        "outputId": "c18ede0a-2fea-43c5-ea28-5baad3f3481a",
        "colab": {
          "base_uri": "https://localhost:8080/"
        }
      },
      "execution_count": 17,
      "outputs": [
        {
          "output_type": "stream",
          "name": "stdout",
          "text": [
            "Ingrese la cantidad de ventas en 2022: 78\n",
            "Ingrese la cantidad de ventas en 2023: 95\n",
            "Bonificación para el equipo de ventas.\n"
          ]
        }
      ]
    },
    {
      "cell_type": "markdown",
      "source": [
        "# Estructuras de repetición"
      ],
      "metadata": {
        "id": "aL1vJPewvwvz"
      }
    },
    {
      "cell_type": "markdown",
      "source": [
        "Cuando tenemos que ejecutar un mismo bloque de comandos durante varias ocasiones no es nada práctico hacerlo a mano.\n",
        "\n",
        "**Situación**: Nos fue solicitado obtener e imprimir el promedio de 2 notas de **3 estudantes**:"
      ],
      "metadata": {
        "id": "VcPfCa8d-84t"
      }
    },
    {
      "cell_type": "code",
      "source": [
        "nota_1 = float(input('Digite la primera nota: '))\n",
        "nota_2 = float(input('Digite la segunda nota: '))\n",
        "print(f'El promedio del estudiante 1 es: {(nota_1 + nota_2) / 2}')\n",
        "\n",
        "nota_1 = float(input('Digite la primera nota: '))\n",
        "nota_2 = float(input('Digite la segunda nota: '))\n",
        "print(f'El promedio del estudiante 2 es: {(nota_1 + nota_2) / 2}')\n",
        "\n",
        "nota_1 = float(input('Digite la primera nota: '))\n",
        "nota_2 = float(input('Digite la segunda nota: '))\n",
        "print(f'El promedio del estudiante 3 es: {(nota_1 + nota_2) / 2}')"
      ],
      "metadata": {
        "id": "xcx21IGT9qA0",
        "outputId": "7c5e4de0-5a65-425b-c546-ab7d3747391f",
        "colab": {
          "base_uri": "https://localhost:8080/"
        }
      },
      "execution_count": 18,
      "outputs": [
        {
          "output_type": "stream",
          "name": "stdout",
          "text": [
            "Digite la primera nota: 78.5\n",
            "Digite la segunda nota: 98.4\n",
            "El promedio del estudiante 1 es: 88.45\n",
            "Digite la primera nota: 78.4\n",
            "Digite la segunda nota: 78.5\n",
            "El promedio del estudiante 2 es: 78.45\n",
            "Digite la primera nota: 98.5\n",
            "Digite la segunda nota: 84.5\n",
            "El promedio del estudiante 3 es: 91.5\n"
          ]
        }
      ]
    },
    {
      "cell_type": "markdown",
      "source": [
        "Ahora imaginemos una situación en que no son tan solo 3 estudiantes, sino 100 estudiantes. No sería nada interesante repetir el mismo código 100 veces, sino **ejecutar el mismo código 100 veces**.\n",
        "\n",
        "¡Esta estructura la logramos construir con lazos de repetición!"
      ],
      "metadata": {
        "id": "9puIuvUbFSFX"
      }
    },
    {
      "cell_type": "markdown",
      "source": [
        "## `WHILE`"
      ],
      "metadata": {
        "id": "uLO9-aE4-wx8"
      }
    },
    {
      "cell_type": "markdown",
      "source": [
        "El lazo `while` es una estructura de control de repetición en Python que permite ejecutar un bloque de código repetidamente mientras que una determinada condición sea verdadera. Su estructura es:\n",
        "\n",
        "\n",
        "\n",
        "```\n",
        "while condicion:\n",
        "    # bloque de codigo\n",
        "```\n",
        "\n",
        "Vamos a construir un ejemplo con un contador de 1 hasta 10.\n"
      ],
      "metadata": {
        "id": "rXZxDMiqHxm9"
      }
    },
    {
      "cell_type": "code",
      "source": [
        "contador = 1\n",
        "while contador <= 10:\n",
        "  print(contador)\n",
        "  contador += 1"
      ],
      "metadata": {
        "id": "Hd0ZSWxD9wCD",
        "outputId": "31ad7384-87b9-4f59-b36b-b26d543a918b",
        "colab": {
          "base_uri": "https://localhost:8080/"
        }
      },
      "execution_count": 19,
      "outputs": [
        {
          "output_type": "stream",
          "name": "stdout",
          "text": [
            "1\n",
            "2\n",
            "3\n",
            "4\n",
            "5\n",
            "6\n",
            "7\n",
            "8\n",
            "9\n",
            "10\n"
          ]
        }
      ]
    },
    {
      "cell_type": "markdown",
      "source": [
        "Ahora vamos a colectar las notas y promedios de cada alumno dentro del lazo `while`. Haremos un ejemplo con 3 promedios."
      ],
      "metadata": {
        "id": "W4KZPBJuIrut"
      }
    },
    {
      "cell_type": "code",
      "source": [
        "contador = 1\n",
        "while contador <= 3:\n",
        "  nota_1 = float(input('Digite la primera nota: '))\n",
        "  nota_2 = float(input('Digite la segunda nota: '))\n",
        "  print(f'El promedio del estudiante {contador} es: {(nota_1 + nota_2) / 2}')\n",
        "  contador += 1"
      ],
      "metadata": {
        "id": "9T5eCLFx9wk6",
        "outputId": "7ff84037-05bb-4d98-fc34-91765588c61d",
        "colab": {
          "base_uri": "https://localhost:8080/"
        }
      },
      "execution_count": 20,
      "outputs": [
        {
          "output_type": "stream",
          "name": "stdout",
          "text": [
            "Digite la primera nota: 78.5\n",
            "Digite la segunda nota: 74.9\n",
            "El promedio del estudiante 1 es: 76.7\n",
            "Digite la primera nota: 98.6\n",
            "Digite la segunda nota: 87.8\n",
            "El promedio del estudiante 2 es: 93.19999999999999\n",
            "Digite la primera nota: 98.7\n",
            "Digite la segunda nota: 87.1\n",
            "El promedio del estudiante 3 es: 92.9\n"
          ]
        }
      ]
    },
    {
      "cell_type": "markdown",
      "source": [
        "## `FOR`"
      ],
      "metadata": {
        "id": "WgAIaENMMfCP"
      }
    },
    {
      "cell_type": "markdown",
      "source": [
        "El lazo `for` es un tipo de estructura de control de flujo en Python que permite iterar sobre un conjunto de elementos. Su estructura es:\n",
        "\n",
        "\n",
        "\n",
        "```\n",
        "for elemento in conjunto:\n",
        "    # codigo a ser ejecutado para cada elemento\n",
        "```\n",
        "\n",
        "El lazo `for` itera sobre cada elemento del conjunto especificado y ejecuta el bloque de código dentro del lazo para cada elemento. Cuando el lazo llega al final del conjunto, este se interrumpe y el programa continúa la ejecución después del lazo.\n",
        "\n"
      ],
      "metadata": {
        "id": "HxrSZoRAMh-x"
      }
    },
    {
      "cell_type": "markdown",
      "source": [
        "El conjunto lo podemos generar con la función incorporada [`range()`](https://docs.python.org/3/library/functions.html#func-range). Se trata de una función capaz de generar una secuencia de números enteros. La estructura de esta función es:\n",
        "\n",
        "```\n",
        "range(inicio, fin, paso)\n",
        "```\n",
        "\n",
        "Según la documentación, `range()` genera una secuencia de números enteros a partir del valor del parámetro `inicio` hasta el valor del parámetro `fin`, de acuerdo con el valor del parámetro `paso`. Si `inicio` no es especificado, el valor por defecto es `0`. Si `paso` no es especificado, el valor por defecto es `1`.\n",
        "\n",
        "\n"
      ],
      "metadata": {
        "id": "6VgjyoQtPHBM"
      }
    },
    {
      "cell_type": "markdown",
      "source": [
        "Vamos a recrear el mismo contador `while` con el lazo `for`."
      ],
      "metadata": {
        "id": "ryn0hfdlUwC8"
      }
    },
    {
      "cell_type": "code",
      "source": [
        "for n in range(1,11):\n",
        "  print(n)"
      ],
      "metadata": {
        "id": "uXIZnLSr9jOu",
        "outputId": "af65c078-ee1e-488c-a464-c5235f11053c",
        "colab": {
          "base_uri": "https://localhost:8080/"
        }
      },
      "execution_count": 21,
      "outputs": [
        {
          "output_type": "stream",
          "name": "stdout",
          "text": [
            "1\n",
            "2\n",
            "3\n",
            "4\n",
            "5\n",
            "6\n",
            "7\n",
            "8\n",
            "9\n",
            "10\n"
          ]
        }
      ]
    },
    {
      "cell_type": "code",
      "source": [
        "for e in range(1,4):\n",
        "  nota_1 = float(input('Digite la primera nota: '))\n",
        "  nota_2 = float(input('Digite la segunda nota: '))\n",
        "  print(f'El promedio del estudiante {e} es: {(nota_1 + nota_2) / 2}')"
      ],
      "metadata": {
        "id": "Eye1ja6Rn49r",
        "outputId": "0a13415d-a285-40fd-b9da-af3ebfae85b3",
        "colab": {
          "base_uri": "https://localhost:8080/"
        }
      },
      "execution_count": 23,
      "outputs": [
        {
          "output_type": "stream",
          "name": "stdout",
          "text": [
            "Digite la primera nota: 87.9\n",
            "Digite la segunda nota: 48.9\n",
            "El promedio del estudiante 1 es: 68.4\n",
            "Digite la primera nota: 95.8\n",
            "Digite la segunda nota: 97.6\n",
            "El promedio del estudiante 2 es: 96.69999999999999\n",
            "Digite la primera nota: 48.7\n",
            "Digite la segunda nota: 78.9\n",
            "El promedio del estudiante 3 es: 63.800000000000004\n"
          ]
        }
      ]
    },
    {
      "cell_type": "code",
      "source": [
        "for i in range(1, 6):\n",
        "    if i == 4:\n",
        "        continue\n",
        "    print(i)"
      ],
      "metadata": {
        "id": "Xa9zFAbRqQzZ",
        "outputId": "84692b1b-f07d-4440-99df-1f842ac85320",
        "colab": {
          "base_uri": "https://localhost:8080/"
        }
      },
      "execution_count": 24,
      "outputs": [
        {
          "output_type": "stream",
          "name": "stdout",
          "text": [
            "1\n",
            "2\n",
            "3\n",
            "5\n"
          ]
        }
      ]
    },
    {
      "cell_type": "code",
      "source": [
        "for i in range(1, 6):\n",
        "    if i == 4:\n",
        "        break\n",
        "    print(i)"
      ],
      "metadata": {
        "id": "MhA0Wz_ZqST3",
        "outputId": "0a0433f3-e055-4af7-cbf4-b6ae9497936c",
        "colab": {
          "base_uri": "https://localhost:8080/"
        }
      },
      "execution_count": 25,
      "outputs": [
        {
          "output_type": "stream",
          "name": "stdout",
          "text": [
            "1\n",
            "2\n",
            "3\n"
          ]
        }
      ]
    },
    {
      "cell_type": "markdown",
      "source": [
        "## Desafío: ¡Es hora de practicar!"
      ],
      "metadata": {
        "id": "Ti_hFgEbqeWO"
      }
    },
    {
      "cell_type": "markdown",
      "source": [
        "1 - Escribe un programa que solicite dos números enteros e imprima todos los números enteros entre ellos."
      ],
      "metadata": {
        "id": "w_4kkdK_qhuU"
      }
    },
    {
      "cell_type": "markdown",
      "source": [
        "2 - Escribe un programa para calcular cuántos días tomará que la colonia de una bacteria A supere o iguale a la colonia de una bacteria B, basado en tasas de crecimiento del 3% y 1.5%, respectivamente. Supón que la colonia A comienza con 4 elementos y B con 10."
      ],
      "metadata": {
        "id": "S5l9PUC_qjsr"
      }
    },
    {
      "cell_type": "markdown",
      "source": [
        "3 - Para procesar una cantidad de 15 datos de evaluaciones de usuarios de un servicio de la empresa, necesitamos verificar si las calificaciones son válidas. Por lo tanto, escribe un programa que recibirá calificaciones del 0 al 5 y verificará si son valores válidos. Si se ingresa una calificación superior a 5 o inferior a 0, se repetirá hasta que el usuario ingrese un valor válido."
      ],
      "metadata": {
        "id": "LsAGGcZzqlMl"
      }
    },
    {
      "cell_type": "markdown",
      "source": [
        "4 - Desarrolla un programa que lea un conjunto indefinido de temperaturas en grados Celsius y calcule su promedio. La lectura debe detenerse al ingresar el valor -273°C."
      ],
      "metadata": {
        "id": "llqZWqebqmrL"
      }
    },
    {
      "cell_type": "markdown",
      "source": [
        "5 - Escribe un programa que calcule el factorial de un número entero proporcionado por el usuario. Recuerda que el factorial de un número entero es el producto de ese número por todos sus antecesores hasta llegar al número 1. Por ejemplo, el factorial de 5 es 5 x 4 x 3 x 2 x 1 = 120."
      ],
      "metadata": {
        "id": "tio5VpfoqoVL"
      }
    },
    {
      "cell_type": "markdown",
      "source": [
        "6 - Escribe un programa que genere la tabla de multiplicar de un número entero del 1 al 10, según la elección del usuario."
      ],
      "metadata": {
        "id": "e7S_PaLLqqTg"
      }
    },
    {
      "cell_type": "markdown",
      "source": [
        "7 - Los números primos tienen diversas aplicaciones en Ciencia de Datos, como en criptografía y seguridad. Un número primo es aquel que es divisible solo por sí mismo y por 1. Por lo tanto, crea un programa que solicite un número entero y determine si es un número primo o no."
      ],
      "metadata": {
        "id": "dQNWVIqvqt4a"
      }
    },
    {
      "cell_type": "markdown",
      "source": [
        "8 - Vamos a comprender la distribución de edades de los pensionistas de una empresa de seguros. Escribe un programa que lea las edades de una cantidad no informada de clientes y muestre la distribución en los intervalos [0-25], [26-50], [51-75] y [76-100]. La entrada de datos se detendrá al ingresar un número negativo.\n",
        "\n"
      ],
      "metadata": {
        "id": "t2DDwZMSqvzt"
      }
    },
    {
      "cell_type": "markdown",
      "source": [
        "9 - En una elección para la gerencia de una empresa con 20 empleados, hay cuatro candidatos. Escribe un programa que calcule al ganador de la elección. La votación se realizó de la siguiente manera:\n",
        "\n",
        "Cada empleado votó por uno de los cuatro candidatos (representados por los números 1, 2, 3 y 4).\n",
        "\n",
        "También se contaron los votos nulos (representados por el número 5) y los votos en blanco (representados por el número 6).\n",
        "\n",
        "Al final de la votación, el programa debe mostrar el número total de votos para cada candidato, los votos nulos y los votos en blanco. Además, debe calcular y mostrar el porcentaje de votos nulos con respecto al total de votos y el porcentaje de votos en blanco con respecto al total de votos."
      ],
      "metadata": {
        "id": "OYKZiwnxqxpn"
      }
    },
    {
      "cell_type": "markdown",
      "source": [
        "# Estructuras de datos"
      ],
      "metadata": {
        "id": "8noP8OJ0Vhux"
      }
    },
    {
      "cell_type": "markdown",
      "source": [
        "Un conjunto de elementos es una colección de items, que son almacenados juntos de manera organizada. Algunos ejemplos de conjuntos de elementos en Python son las listas, los strings y los diccionarios."
      ],
      "metadata": {
        "id": "xpEUkefTu8fY"
      }
    },
    {
      "cell_type": "markdown",
      "source": [
        "## Listas"
      ],
      "metadata": {
        "id": "THSg4KYLwxIb"
      }
    },
    {
      "cell_type": "markdown",
      "source": [
        "Las listas pueden almacenar una colección de items en orden. Ellas son delimitadas por corchetes `[]` y sus elementos son separados por comas.\n",
        "\n",
        "Estas pueden almacenar cualquier tipo de items, incluyendo números, strings, objetos, otras listas, entre otros. También nos permiten almacenar items de tipos de datos diferentes juntos en una única lista."
      ],
      "metadata": {
        "id": "dzpsiqrOyJcK"
      }
    },
    {
      "cell_type": "code",
      "source": [
        "lista = ['Penélope Camacho',9.5,9.0,9.7,True]\n",
        "lista"
      ],
      "metadata": {
        "id": "DO3TBj7nAYeG",
        "colab": {
          "base_uri": "https://localhost:8080/"
        },
        "outputId": "4d16b8de-59c5-4259-9ada-a2a9aafc11c7"
      },
      "execution_count": 26,
      "outputs": [
        {
          "output_type": "execute_result",
          "data": {
            "text/plain": [
              "['Penélope Camacho', 9.5, 9.0, 9.7, True]"
            ]
          },
          "metadata": {},
          "execution_count": 26
        }
      ]
    },
    {
      "cell_type": "code",
      "source": [
        "type(lista)"
      ],
      "metadata": {
        "id": "DO2ubP9N9D_2",
        "outputId": "34923d14-1032-4f0a-e531-a22f31276ce3",
        "colab": {
          "base_uri": "https://localhost:8080/"
        }
      },
      "execution_count": 28,
      "outputs": [
        {
          "output_type": "execute_result",
          "data": {
            "text/plain": [
              "list"
            ]
          },
          "metadata": {},
          "execution_count": 28
        }
      ]
    },
    {
      "cell_type": "markdown",
      "source": [
        "Las listas son organizadas en Python porque **cada elemento de la lista tiene un índice que indica su posición al interior de la lista**. Los índices comienzan en 0 van hasta el tamaño de la lista menos 1."
      ],
      "metadata": {
        "id": "qUz3sJNl6LgK"
      }
    },
    {
      "cell_type": "markdown",
      "source": [
        "Tenemos entonces 5 elementos con índices que varían de 0 a 4, ordenadamente:\n",
        "\n",
        "```\n",
        "#             [0]           [1]   [2]   [3]    [4]\n",
        "lista = ['Penélope Camacho', 9.5 , 9.0 , 9.7 , True]\n",
        "```\n",
        "\n",
        "En Python tenemos también los índices **negativos** que se inician en el último elemento con el valor de `-1` y avanzan en el universo de los negativos hasta llegar al 1° elemento:\n",
        "\n",
        "```\n",
        "#             [-5]         [-4]  [-3]  [-2]   [-1]\n",
        "lista = ['Penélope Camacho', 9.5 , 9.0 , 9.7 , True]\n",
        "```\n",
        "\n",
        "Logramos seleccionar separadamente cada elemento a través de sus respectivos índices. Colocando el nombre de la lista y en seguida el índice que será seleccionado."
      ],
      "metadata": {
        "id": "rLf-Qg526hFD"
      }
    },
    {
      "cell_type": "code",
      "source": [
        "type(lista[0])"
      ],
      "metadata": {
        "id": "4hco1Zqy88Kw",
        "outputId": "1b94dc4c-123a-441b-b190-a0a8eab33fe3",
        "colab": {
          "base_uri": "https://localhost:8080/"
        }
      },
      "execution_count": 29,
      "outputs": [
        {
          "output_type": "execute_result",
          "data": {
            "text/plain": [
              "str"
            ]
          },
          "metadata": {},
          "execution_count": 29
        }
      ]
    },
    {
      "cell_type": "code",
      "source": [
        "type(lista[1])"
      ],
      "metadata": {
        "id": "M8lH0I2288Ph",
        "outputId": "52d4c25a-56fa-495e-e798-b85caf358d0c",
        "colab": {
          "base_uri": "https://localhost:8080/"
        }
      },
      "execution_count": 30,
      "outputs": [
        {
          "output_type": "execute_result",
          "data": {
            "text/plain": [
              "float"
            ]
          },
          "metadata": {},
          "execution_count": 30
        }
      ]
    },
    {
      "cell_type": "code",
      "source": [
        "type(lista[-1])"
      ],
      "metadata": {
        "id": "rbRfIdapruOX",
        "outputId": "ab8ced4b-9c3c-4857-d3c5-5a01e6f8b920",
        "colab": {
          "base_uri": "https://localhost:8080/"
        }
      },
      "execution_count": 31,
      "outputs": [
        {
          "output_type": "execute_result",
          "data": {
            "text/plain": [
              "bool"
            ]
          },
          "metadata": {},
          "execution_count": 31
        }
      ]
    },
    {
      "cell_type": "markdown",
      "source": [
        "Una forma más dinámica de trabajar item a item en una lista es utilizando un lazo `for` para leer un elemento a la vez."
      ],
      "metadata": {
        "id": "6TaE1ijmBTCd"
      }
    },
    {
      "cell_type": "code",
      "source": [
        "for elemento in lista:\n",
        "  print(elemento)"
      ],
      "metadata": {
        "id": "rBx4Yu1786Sy",
        "outputId": "4a60d20a-a069-42de-9fc2-1cfbba8de6b0",
        "colab": {
          "base_uri": "https://localhost:8080/"
        }
      },
      "execution_count": 32,
      "outputs": [
        {
          "output_type": "stream",
          "name": "stdout",
          "text": [
            "Penélope Camacho\n",
            "9.5\n",
            "9.0\n",
            "9.7\n",
            "True\n"
          ]
        }
      ]
    },
    {
      "cell_type": "markdown",
      "source": [
        "**Situación**: La nota `9.0` de Penélope necesita ser ajustada pues ganó 1 punto en su última nota por participación en clase. Entonces es necesario realizar un cambio en el índice `2` de `9.0` a `10.0`."
      ],
      "metadata": {
        "id": "Dh1_HnIVvucY"
      }
    },
    {
      "cell_type": "code",
      "source": [
        "lista[2] = 10.0"
      ],
      "metadata": {
        "id": "bVPoZg668z3T"
      },
      "execution_count": 33,
      "outputs": []
    },
    {
      "cell_type": "code",
      "source": [
        "lista"
      ],
      "metadata": {
        "id": "Jo_PBQ0g8z7D",
        "outputId": "7ed3def8-cbea-448d-c87b-59a77b6a18e5",
        "colab": {
          "base_uri": "https://localhost:8080/"
        }
      },
      "execution_count": 34,
      "outputs": [
        {
          "output_type": "execute_result",
          "data": {
            "text/plain": [
              "['Penélope Camacho', 9.5, 10.0, 9.7, True]"
            ]
          },
          "metadata": {},
          "execution_count": 34
        }
      ]
    },
    {
      "cell_type": "code",
      "source": [
        "promedio = (lista[1] + lista[2] + lista[3]) / 3\n",
        "promedio"
      ],
      "metadata": {
        "id": "7nEk5puesSWN",
        "outputId": "ea1ead8d-c61f-41b3-f90b-8aaa9db36906",
        "colab": {
          "base_uri": "https://localhost:8080/"
        }
      },
      "execution_count": 36,
      "outputs": [
        {
          "output_type": "execute_result",
          "data": {
            "text/plain": [
              "9.733333333333333"
            ]
          },
          "metadata": {},
          "execution_count": 36
        }
      ]
    },
    {
      "cell_type": "markdown",
      "source": [
        "También podemos calcular el promedio del estudiante a partir de los datos que tenemos."
      ],
      "metadata": {
        "id": "53XduzXkycAf"
      }
    },
    {
      "cell_type": "code",
      "source": [
        "lenguaje = 'Python'\n",
        "print(lenguaje[0], lenguaje[1], lenguaje[2], lenguaje[-3], lenguaje[-2], lenguaje[-1])"
      ],
      "metadata": {
        "id": "SIH61Rrb8yv4",
        "outputId": "b2219b75-85ed-44e8-e1b8-f983e52f7164",
        "colab": {
          "base_uri": "https://localhost:8080/"
        }
      },
      "execution_count": 37,
      "outputs": [
        {
          "output_type": "stream",
          "name": "stdout",
          "text": [
            "P y t h o n\n"
          ]
        }
      ]
    },
    {
      "cell_type": "code",
      "source": [
        "pregunta = '¿Quién vino primero? ¿El huevo? ¿O fue la serpiente?'\n",
        "lista_palabras = pregunta.split('?')\n",
        "print(lista_palabras)"
      ],
      "metadata": {
        "id": "mZ8ILgxrs6bO",
        "outputId": "abccd446-aa27-4fbf-9e14-92bf2b436aaf",
        "colab": {
          "base_uri": "https://localhost:8080/"
        }
      },
      "execution_count": 38,
      "outputs": [
        {
          "output_type": "stream",
          "name": "stdout",
          "text": [
            "['¿Quién vino primero', ' ¿El huevo', ' ¿O fue la serpiente', '']\n"
          ]
        }
      ]
    },
    {
      "cell_type": "code",
      "source": [
        "pregunta = '¿Quién vino primero? ¿El huevo? ¿O fue la serpiente?'\n",
        "lista_palabras = pregunta.split()\n",
        "print(lista_palabras)"
      ],
      "metadata": {
        "id": "7wr45flgs9cw",
        "outputId": "b56f2106-8797-4943-eb67-920c373c7ac6",
        "colab": {
          "base_uri": "https://localhost:8080/"
        }
      },
      "execution_count": 39,
      "outputs": [
        {
          "output_type": "stream",
          "name": "stdout",
          "text": [
            "['¿Quién', 'vino', 'primero?', '¿El', 'huevo?', '¿O', 'fue', 'la', 'serpiente?']\n"
          ]
        }
      ]
    },
    {
      "cell_type": "code",
      "source": [
        "mezclas = ['Pinturas: rojo, azul y amarillo',\n",
        "            'Verde: mezcla de azul y amarillo',\n",
        "            'Naranja: mezcla de rojo y amarillo',\n",
        "            'Morado: mezcla de rojo y azul']\n",
        "unificador = '. '\n",
        "cadena_mezclas = unificador.join(mezclas)\n",
        "print(cadena_mezclas)"
      ],
      "metadata": {
        "id": "7EHcEMzAtBeF",
        "outputId": "768c22ea-43ca-4e53-ee23-ccf927c7109b",
        "colab": {
          "base_uri": "https://localhost:8080/"
        }
      },
      "execution_count": 40,
      "outputs": [
        {
          "output_type": "stream",
          "name": "stdout",
          "text": [
            "Pinturas: rojo, azul y amarillo. Verde: mezcla de azul y amarillo. Naranja: mezcla de rojo y amarillo. Morado: mezcla de rojo y azul\n"
          ]
        }
      ]
    },
    {
      "cell_type": "markdown",
      "source": [
        "## Manipulación de listas\n",
        "\n",
        "Las listas son muy útiles en Python porque nos permiten almacenar y acceder a una colección de items de manera organizada y rápida. Estas también ofrecen muchos métodos útiles para manipular los itens almacenados, como adicionar, remover, clasificar y buscar elementos."
      ],
      "metadata": {
        "id": "d-iYr10-y4qw"
      }
    },
    {
      "cell_type": "markdown",
      "source": [
        "#### Cantidad de elementos\n",
        "\n",
        "Usamos la función [`len()`](https://docs.python.org/3/library/functions.html#len) para descubrir la cantidad de elementos de un conjunto."
      ],
      "metadata": {
        "id": "ZLqx9A97XVB_"
      }
    },
    {
      "cell_type": "code",
      "source": [],
      "metadata": {
        "id": "6q1Tmm7P8wQf"
      },
      "execution_count": null,
      "outputs": []
    },
    {
      "cell_type": "markdown",
      "source": [
        "#### Partición\n",
        "\n",
        "La partición de listas por indexación en Python es una técnica muy útil para seleccionar un subconjunto de elementos de una lista. Esta se realiza usando la sintaxis `lista[inicio:fin]`, donde `inicio` es el índice del primer elemento que será incluído en la partición `fin` es el índice del primer elemento que será excluído de la partición."
      ],
      "metadata": {
        "id": "Z5tpstlHJss3"
      }
    },
    {
      "cell_type": "code",
      "source": [],
      "metadata": {
        "id": "NctvJTTU8uV9"
      },
      "execution_count": null,
      "outputs": []
    },
    {
      "cell_type": "code",
      "source": [],
      "metadata": {
        "id": "bQZUwldj8uY2"
      },
      "execution_count": null,
      "outputs": []
    },
    {
      "cell_type": "markdown",
      "source": [
        "#### [`append()`](https://docs.python.org/3/tutorial/datastructures.html#:~:text=of%20list%20objects%3A-,list.append(x),-Add%20an%20item)\n",
        "\n",
        "Añade un elemento al final de la lista."
      ],
      "metadata": {
        "id": "O0RRyabkRzZC"
      }
    },
    {
      "cell_type": "code",
      "source": [],
      "metadata": {
        "id": "_Q0oODwa8spC"
      },
      "execution_count": null,
      "outputs": []
    },
    {
      "cell_type": "code",
      "source": [],
      "metadata": {
        "id": "RM894r2M8sse"
      },
      "execution_count": null,
      "outputs": []
    },
    {
      "cell_type": "markdown",
      "source": [
        "#### [`extend()`](https://docs.python.org/3/tutorial/datastructures.html#:~:text=list.extend(iterable))\n",
        "\n",
        "Añade varios elementos al final de la lista.\n",
        "\n",
        "Añadiremos las notas `[10.0,8.0,9.0]` En la lista de Penélope Camacho."
      ],
      "metadata": {
        "id": "uQV91XMsUOJD"
      }
    },
    {
      "cell_type": "code",
      "source": [],
      "metadata": {
        "id": "6Zk2MpMw8rQc"
      },
      "execution_count": null,
      "outputs": []
    },
    {
      "cell_type": "code",
      "source": [],
      "metadata": {
        "id": "NnoKkoWb8rTQ"
      },
      "execution_count": null,
      "outputs": []
    },
    {
      "cell_type": "markdown",
      "source": [
        "*A continuación te mostraremos lo que no puede realizarse con* `append`."
      ],
      "metadata": {
        "id": "IVJvkTwNUk6M"
      }
    },
    {
      "cell_type": "code",
      "source": [],
      "metadata": {
        "id": "u3Eub2ZL8pp3"
      },
      "execution_count": null,
      "outputs": []
    },
    {
      "cell_type": "code",
      "source": [],
      "metadata": {
        "id": "tsKK5Ne58pvN"
      },
      "execution_count": null,
      "outputs": []
    },
    {
      "cell_type": "markdown",
      "source": [
        "#### [`remove()`](https://docs.python.org/3/tutorial/datastructures.html#:~:text=append(x).-,list.remove(x),-Remove%20the%20first)\n",
        "\n",
        "Remueve un elemento específico de la lista."
      ],
      "metadata": {
        "id": "dPGM5gpyUX1z"
      }
    },
    {
      "cell_type": "code",
      "source": [],
      "metadata": {
        "id": "mmboODPc8nd5"
      },
      "execution_count": null,
      "outputs": []
    },
    {
      "cell_type": "code",
      "source": [],
      "metadata": {
        "id": "T_w6vVgV8nh_"
      },
      "execution_count": null,
      "outputs": []
    },
    {
      "cell_type": "markdown",
      "source": [
        "## Diccionario"
      ],
      "metadata": {
        "id": "Rc22Vc08YDZ2"
      }
    },
    {
      "cell_type": "markdown",
      "source": [
        "Los diccionarios son un tipo de estructura de datos que almacenan pares de *llave-valor*. Estos son delimitados por llaves `{}` y los pares *llave-valor* son separados por comas.\n",
        "\n",
        "```\n",
        "diccionario = {llave: valor}\n",
        "```\n",
        "\n",
        "La **llave** es un elemento único que identifica a un valor en el diccionario, mientras que el **valor** es el item que será almacenado para la llave. Las llaves y sus respectivos valores se pueden emplear para **cualquier tipo de dato**.\n",
        "\n",
        "Los diccionarios son útiles para almacenar y acceder a los datos de manera organizada y rápida. Se trata de un tipo de conjunto de elementos en Python, pues almacenan una colección de items."
      ],
      "metadata": {
        "id": "PJ-cCKPjeWxL"
      }
    },
    {
      "cell_type": "code",
      "source": [],
      "metadata": {
        "id": "NDHhzooE8ld5"
      },
      "execution_count": null,
      "outputs": []
    },
    {
      "cell_type": "code",
      "source": [],
      "metadata": {
        "id": "AVOzqzy-8lhh"
      },
      "execution_count": null,
      "outputs": []
    },
    {
      "cell_type": "markdown",
      "source": [
        "---\n",
        "**Situación:**\n",
        "\n",
        "Vamos a crear un conjunto de datos con las informaciones de matrícula de un estudiante. Los datos son los siguientes:\n",
        "\n",
        "- matrícula: 2000168933\n",
        "- día de registro: 25\n",
        "- mes de registro: 10\n",
        "- grupo: 2E"
      ],
      "metadata": {
        "id": "_JbQ3KMKfkXU"
      }
    },
    {
      "cell_type": "code",
      "source": [],
      "metadata": {
        "id": "0lfOu_c38jED"
      },
      "execution_count": null,
      "outputs": []
    },
    {
      "cell_type": "code",
      "source": [],
      "metadata": {
        "id": "XIuqpTTy8jHV"
      },
      "execution_count": null,
      "outputs": []
    },
    {
      "cell_type": "markdown",
      "source": [
        "Es posible sustituir los valores dentro de una llave. Por ejemplo, recibimos la información de que el grupo del estudiante que registramos cambio a `'2G'` y ahora necesitamos cambiar el valor de la llave `'grupo'`."
      ],
      "metadata": {
        "id": "8ex5pt2ykDd2"
      }
    },
    {
      "cell_type": "code",
      "source": [],
      "metadata": {
        "id": "kQGlp36b8fyP"
      },
      "execution_count": null,
      "outputs": []
    },
    {
      "cell_type": "code",
      "source": [],
      "metadata": {
        "id": "DnfH_qHi8f17"
      },
      "execution_count": null,
      "outputs": []
    },
    {
      "cell_type": "markdown",
      "source": [
        "También podemos añadir otros datos al diccionario. Vamos a añadir la información sobre la modalidad de estudio, nuestro estudiante estudiará inicialemente en la modalidad EAD.\n",
        "\n",
        "Definiremos una llave llamada `'modalidad'` con el valor `'EAD'`."
      ],
      "metadata": {
        "id": "wB0qRb56mQvv"
      }
    },
    {
      "cell_type": "code",
      "source": [],
      "metadata": {
        "id": "EeLYdlIm8d8a"
      },
      "execution_count": null,
      "outputs": []
    },
    {
      "cell_type": "code",
      "source": [],
      "metadata": {
        "id": "olDIavsm8d_o"
      },
      "execution_count": null,
      "outputs": []
    },
    {
      "cell_type": "markdown",
      "source": [
        "## Profundizando en diccionarios"
      ],
      "metadata": {
        "id": "LJ3o_inroxg_"
      }
    },
    {
      "cell_type": "markdown",
      "source": [
        "#### [`pop()`](https://python-reference.readthedocs.io/en/latest/docs/dict/pop.html)\n",
        "Remueve un item de un diccionario y lo representa en la salida."
      ],
      "metadata": {
        "id": "2N3GLlkSpBiu"
      }
    },
    {
      "cell_type": "code",
      "source": [],
      "metadata": {
        "id": "ZsSCZx6G8b-T"
      },
      "execution_count": null,
      "outputs": []
    },
    {
      "cell_type": "code",
      "source": [],
      "metadata": {
        "id": "7lQ8_jpi8cBR"
      },
      "execution_count": null,
      "outputs": []
    },
    {
      "cell_type": "markdown",
      "source": [
        "#### [`items()`](https://python-reference.readthedocs.io/en/latest/docs/dict/items.html)\n",
        "Retorna una lista de pares `llave-valor` del diccionario."
      ],
      "metadata": {
        "id": "sYZGvJJYrW_y"
      }
    },
    {
      "cell_type": "code",
      "source": [],
      "metadata": {
        "id": "ncdycLV08an7"
      },
      "execution_count": null,
      "outputs": []
    },
    {
      "cell_type": "markdown",
      "source": [
        "#### [`keys()`](https://python-reference.readthedocs.io/en/latest/docs/dict/keys.html)\n",
        "Retorna una lista de las llaves del diccionario."
      ],
      "metadata": {
        "id": "Lb0utNFGrZBY"
      }
    },
    {
      "cell_type": "code",
      "source": [],
      "metadata": {
        "id": "eZo0biaM8ZVs"
      },
      "execution_count": null,
      "outputs": []
    },
    {
      "cell_type": "markdown",
      "source": [
        "#### [`values()`](https://python-reference.readthedocs.io/en/latest/docs/dict/values.html)\n",
        "Retorna una lista de los valores del diccionario."
      ],
      "metadata": {
        "id": "qKyu3bf9rbtX"
      }
    },
    {
      "cell_type": "code",
      "source": [],
      "metadata": {
        "id": "-NxRT9C18Yvo"
      },
      "execution_count": null,
      "outputs": []
    },
    {
      "cell_type": "markdown",
      "source": [
        "### Lectura de valores con el lazo `for`"
      ],
      "metadata": {
        "id": "e3XVjR8Frp75"
      }
    },
    {
      "cell_type": "code",
      "source": [],
      "metadata": {
        "id": "NYcjU-Ip8Xan"
      },
      "execution_count": null,
      "outputs": []
    },
    {
      "cell_type": "code",
      "source": [],
      "metadata": {
        "id": "aAnpP1Wv8XfJ"
      },
      "execution_count": null,
      "outputs": []
    }
  ]
}